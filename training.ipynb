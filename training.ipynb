{
 "cells": [
  {
   "cell_type": "markdown",
   "metadata": {
    "toc": true
   },
   "source": [
    "<h1>Содержание<span class=\"tocSkip\"></span></h1>\n",
    "<div class=\"toc\"><ul class=\"toc-item\"><li><span><a href=\"#Подготовка-данных\" data-toc-modified-id=\"Подготовка-данных-1\"><span class=\"toc-item-num\">1&nbsp;&nbsp;</span>Подготовка данных</a></span></li><li><span><a href=\"#Исследование-задачи\" data-toc-modified-id=\"Исследование-задачи-2\"><span class=\"toc-item-num\">2&nbsp;&nbsp;</span>Исследование задачи</a></span></li><li><span><a href=\"#Борьба-с-дисбалансом\" data-toc-modified-id=\"Борьба-с-дисбалансом-3\"><span class=\"toc-item-num\">3&nbsp;&nbsp;</span>Борьба с дисбалансом</a></span></li><li><span><a href=\"#Тестирование-модели\" data-toc-modified-id=\"Тестирование-модели-4\"><span class=\"toc-item-num\">4&nbsp;&nbsp;</span>Тестирование модели</a></span></li><li><span><a href=\"#Чек-лист-готовности-проекта\" data-toc-modified-id=\"Чек-лист-готовности-проекта-5\"><span class=\"toc-item-num\">5&nbsp;&nbsp;</span>Чек-лист готовности проекта</a></span></li></ul></div>"
   ]
  },
  {
   "cell_type": "markdown",
   "metadata": {},
   "source": [
    "# Отток клиентов"
   ]
  },
  {
   "cell_type": "markdown",
   "metadata": {},
   "source": [
    "Из «Бета-Банка» стали уходить клиенты. Каждый месяц. Немного, но заметно. Банковские маркетологи посчитали: сохранять текущих клиентов дешевле, чем привлекать новых.\n",
    "\n",
    "Нужно спрогнозировать, уйдёт клиент из банка в ближайшее время или нет. Вам предоставлены исторические данные о поведении клиентов и расторжении договоров с банком. \n",
    "\n",
    "Постройте модель с предельно большим значением *F1*-меры. Чтобы сдать проект успешно, нужно довести метрику до 0.59. Проверьте *F1*-меру на тестовой выборке самостоятельно.\n",
    "\n",
    "Дополнительно измеряйте *AUC-ROC*, сравнивайте её значение с *F1*-мерой.\n",
    "\n",
    "Источник данных: [https://www.kaggle.com/barelydedicated/bank-customer-churn-modeling](https://www.kaggle.com/barelydedicated/bank-customer-churn-modeling)"
   ]
  },
  {
   "cell_type": "markdown",
   "metadata": {},
   "source": [
    "## Подготовка данных"
   ]
  },
  {
   "cell_type": "code",
   "execution_count": 2,
   "metadata": {},
   "outputs": [],
   "source": [
    "import pandas as pd\n",
    "from sklearn.model_selection import train_test_split\n",
    "from sklearn.metrics import f1_score, accuracy_score, recall_score, confusion_matrix, precision_score, roc_auc_score, roc_curve\n",
    "from sklearn.utils import shuffle\n",
    "from sklearn.tree import DecisionTreeClassifier\n",
    "from sklearn.ensemble import RandomForestClassifier\n",
    "from sklearn.linear_model import LogisticRegression\n",
    "from matplotlib import pyplot as plt"
   ]
  },
  {
   "cell_type": "code",
   "execution_count": 3,
   "metadata": {},
   "outputs": [
    {
     "ename": "FileNotFoundError",
     "evalue": "[Errno 2] No such file or directory: '/datasets/Churn.csv'",
     "output_type": "error",
     "traceback": [
      "\u001b[1;31m---------------------------------------------------------------------------\u001b[0m",
      "\u001b[1;31mFileNotFoundError\u001b[0m                         Traceback (most recent call last)",
      "\u001b[1;32m<ipython-input-3-c1616f210046>\u001b[0m in \u001b[0;36m<module>\u001b[1;34m\u001b[0m\n\u001b[1;32m----> 1\u001b[1;33m \u001b[0mdf\u001b[0m \u001b[1;33m=\u001b[0m \u001b[0mpd\u001b[0m\u001b[1;33m.\u001b[0m\u001b[0mread_csv\u001b[0m\u001b[1;33m(\u001b[0m\u001b[1;34m'/datasets/Churn.csv'\u001b[0m\u001b[1;33m)\u001b[0m\u001b[1;33m\u001b[0m\u001b[1;33m\u001b[0m\u001b[0m\n\u001b[0m",
      "\u001b[1;32mD:\\Anaconda\\lib\\site-packages\\pandas\\io\\parsers.py\u001b[0m in \u001b[0;36mread_csv\u001b[1;34m(filepath_or_buffer, sep, delimiter, header, names, index_col, usecols, squeeze, prefix, mangle_dupe_cols, dtype, engine, converters, true_values, false_values, skipinitialspace, skiprows, skipfooter, nrows, na_values, keep_default_na, na_filter, verbose, skip_blank_lines, parse_dates, infer_datetime_format, keep_date_col, date_parser, dayfirst, cache_dates, iterator, chunksize, compression, thousands, decimal, lineterminator, quotechar, quoting, doublequote, escapechar, comment, encoding, dialect, error_bad_lines, warn_bad_lines, delim_whitespace, low_memory, memory_map, float_precision, storage_options)\u001b[0m\n\u001b[0;32m    608\u001b[0m     \u001b[0mkwds\u001b[0m\u001b[1;33m.\u001b[0m\u001b[0mupdate\u001b[0m\u001b[1;33m(\u001b[0m\u001b[0mkwds_defaults\u001b[0m\u001b[1;33m)\u001b[0m\u001b[1;33m\u001b[0m\u001b[1;33m\u001b[0m\u001b[0m\n\u001b[0;32m    609\u001b[0m \u001b[1;33m\u001b[0m\u001b[0m\n\u001b[1;32m--> 610\u001b[1;33m     \u001b[1;32mreturn\u001b[0m \u001b[0m_read\u001b[0m\u001b[1;33m(\u001b[0m\u001b[0mfilepath_or_buffer\u001b[0m\u001b[1;33m,\u001b[0m \u001b[0mkwds\u001b[0m\u001b[1;33m)\u001b[0m\u001b[1;33m\u001b[0m\u001b[1;33m\u001b[0m\u001b[0m\n\u001b[0m\u001b[0;32m    611\u001b[0m \u001b[1;33m\u001b[0m\u001b[0m\n\u001b[0;32m    612\u001b[0m \u001b[1;33m\u001b[0m\u001b[0m\n",
      "\u001b[1;32mD:\\Anaconda\\lib\\site-packages\\pandas\\io\\parsers.py\u001b[0m in \u001b[0;36m_read\u001b[1;34m(filepath_or_buffer, kwds)\u001b[0m\n\u001b[0;32m    460\u001b[0m \u001b[1;33m\u001b[0m\u001b[0m\n\u001b[0;32m    461\u001b[0m     \u001b[1;31m# Create the parser.\u001b[0m\u001b[1;33m\u001b[0m\u001b[1;33m\u001b[0m\u001b[1;33m\u001b[0m\u001b[0m\n\u001b[1;32m--> 462\u001b[1;33m     \u001b[0mparser\u001b[0m \u001b[1;33m=\u001b[0m \u001b[0mTextFileReader\u001b[0m\u001b[1;33m(\u001b[0m\u001b[0mfilepath_or_buffer\u001b[0m\u001b[1;33m,\u001b[0m \u001b[1;33m**\u001b[0m\u001b[0mkwds\u001b[0m\u001b[1;33m)\u001b[0m\u001b[1;33m\u001b[0m\u001b[1;33m\u001b[0m\u001b[0m\n\u001b[0m\u001b[0;32m    463\u001b[0m \u001b[1;33m\u001b[0m\u001b[0m\n\u001b[0;32m    464\u001b[0m     \u001b[1;32mif\u001b[0m \u001b[0mchunksize\u001b[0m \u001b[1;32mor\u001b[0m \u001b[0miterator\u001b[0m\u001b[1;33m:\u001b[0m\u001b[1;33m\u001b[0m\u001b[1;33m\u001b[0m\u001b[0m\n",
      "\u001b[1;32mD:\\Anaconda\\lib\\site-packages\\pandas\\io\\parsers.py\u001b[0m in \u001b[0;36m__init__\u001b[1;34m(self, f, engine, **kwds)\u001b[0m\n\u001b[0;32m    817\u001b[0m             \u001b[0mself\u001b[0m\u001b[1;33m.\u001b[0m\u001b[0moptions\u001b[0m\u001b[1;33m[\u001b[0m\u001b[1;34m\"has_index_names\"\u001b[0m\u001b[1;33m]\u001b[0m \u001b[1;33m=\u001b[0m \u001b[0mkwds\u001b[0m\u001b[1;33m[\u001b[0m\u001b[1;34m\"has_index_names\"\u001b[0m\u001b[1;33m]\u001b[0m\u001b[1;33m\u001b[0m\u001b[1;33m\u001b[0m\u001b[0m\n\u001b[0;32m    818\u001b[0m \u001b[1;33m\u001b[0m\u001b[0m\n\u001b[1;32m--> 819\u001b[1;33m         \u001b[0mself\u001b[0m\u001b[1;33m.\u001b[0m\u001b[0m_engine\u001b[0m \u001b[1;33m=\u001b[0m \u001b[0mself\u001b[0m\u001b[1;33m.\u001b[0m\u001b[0m_make_engine\u001b[0m\u001b[1;33m(\u001b[0m\u001b[0mself\u001b[0m\u001b[1;33m.\u001b[0m\u001b[0mengine\u001b[0m\u001b[1;33m)\u001b[0m\u001b[1;33m\u001b[0m\u001b[1;33m\u001b[0m\u001b[0m\n\u001b[0m\u001b[0;32m    820\u001b[0m \u001b[1;33m\u001b[0m\u001b[0m\n\u001b[0;32m    821\u001b[0m     \u001b[1;32mdef\u001b[0m \u001b[0mclose\u001b[0m\u001b[1;33m(\u001b[0m\u001b[0mself\u001b[0m\u001b[1;33m)\u001b[0m\u001b[1;33m:\u001b[0m\u001b[1;33m\u001b[0m\u001b[1;33m\u001b[0m\u001b[0m\n",
      "\u001b[1;32mD:\\Anaconda\\lib\\site-packages\\pandas\\io\\parsers.py\u001b[0m in \u001b[0;36m_make_engine\u001b[1;34m(self, engine)\u001b[0m\n\u001b[0;32m   1048\u001b[0m             )\n\u001b[0;32m   1049\u001b[0m         \u001b[1;31m# error: Too many arguments for \"ParserBase\"\u001b[0m\u001b[1;33m\u001b[0m\u001b[1;33m\u001b[0m\u001b[1;33m\u001b[0m\u001b[0m\n\u001b[1;32m-> 1050\u001b[1;33m         \u001b[1;32mreturn\u001b[0m \u001b[0mmapping\u001b[0m\u001b[1;33m[\u001b[0m\u001b[0mengine\u001b[0m\u001b[1;33m]\u001b[0m\u001b[1;33m(\u001b[0m\u001b[0mself\u001b[0m\u001b[1;33m.\u001b[0m\u001b[0mf\u001b[0m\u001b[1;33m,\u001b[0m \u001b[1;33m**\u001b[0m\u001b[0mself\u001b[0m\u001b[1;33m.\u001b[0m\u001b[0moptions\u001b[0m\u001b[1;33m)\u001b[0m  \u001b[1;31m# type: ignore[call-arg]\u001b[0m\u001b[1;33m\u001b[0m\u001b[1;33m\u001b[0m\u001b[0m\n\u001b[0m\u001b[0;32m   1051\u001b[0m \u001b[1;33m\u001b[0m\u001b[0m\n\u001b[0;32m   1052\u001b[0m     \u001b[1;32mdef\u001b[0m \u001b[0m_failover_to_python\u001b[0m\u001b[1;33m(\u001b[0m\u001b[0mself\u001b[0m\u001b[1;33m)\u001b[0m\u001b[1;33m:\u001b[0m\u001b[1;33m\u001b[0m\u001b[1;33m\u001b[0m\u001b[0m\n",
      "\u001b[1;32mD:\\Anaconda\\lib\\site-packages\\pandas\\io\\parsers.py\u001b[0m in \u001b[0;36m__init__\u001b[1;34m(self, src, **kwds)\u001b[0m\n\u001b[0;32m   1865\u001b[0m \u001b[1;33m\u001b[0m\u001b[0m\n\u001b[0;32m   1866\u001b[0m         \u001b[1;31m# open handles\u001b[0m\u001b[1;33m\u001b[0m\u001b[1;33m\u001b[0m\u001b[1;33m\u001b[0m\u001b[0m\n\u001b[1;32m-> 1867\u001b[1;33m         \u001b[0mself\u001b[0m\u001b[1;33m.\u001b[0m\u001b[0m_open_handles\u001b[0m\u001b[1;33m(\u001b[0m\u001b[0msrc\u001b[0m\u001b[1;33m,\u001b[0m \u001b[0mkwds\u001b[0m\u001b[1;33m)\u001b[0m\u001b[1;33m\u001b[0m\u001b[1;33m\u001b[0m\u001b[0m\n\u001b[0m\u001b[0;32m   1868\u001b[0m         \u001b[1;32massert\u001b[0m \u001b[0mself\u001b[0m\u001b[1;33m.\u001b[0m\u001b[0mhandles\u001b[0m \u001b[1;32mis\u001b[0m \u001b[1;32mnot\u001b[0m \u001b[1;32mNone\u001b[0m\u001b[1;33m\u001b[0m\u001b[1;33m\u001b[0m\u001b[0m\n\u001b[0;32m   1869\u001b[0m         \u001b[1;32mfor\u001b[0m \u001b[0mkey\u001b[0m \u001b[1;32min\u001b[0m \u001b[1;33m(\u001b[0m\u001b[1;34m\"storage_options\"\u001b[0m\u001b[1;33m,\u001b[0m \u001b[1;34m\"encoding\"\u001b[0m\u001b[1;33m,\u001b[0m \u001b[1;34m\"memory_map\"\u001b[0m\u001b[1;33m,\u001b[0m \u001b[1;34m\"compression\"\u001b[0m\u001b[1;33m)\u001b[0m\u001b[1;33m:\u001b[0m\u001b[1;33m\u001b[0m\u001b[1;33m\u001b[0m\u001b[0m\n",
      "\u001b[1;32mD:\\Anaconda\\lib\\site-packages\\pandas\\io\\parsers.py\u001b[0m in \u001b[0;36m_open_handles\u001b[1;34m(self, src, kwds)\u001b[0m\n\u001b[0;32m   1360\u001b[0m         \u001b[0mLet\u001b[0m \u001b[0mthe\u001b[0m \u001b[0mreaders\u001b[0m \u001b[0mopen\u001b[0m \u001b[0mIOHanldes\u001b[0m \u001b[0mafter\u001b[0m \u001b[0mthey\u001b[0m \u001b[0mare\u001b[0m \u001b[0mdone\u001b[0m \u001b[1;32mwith\u001b[0m \u001b[0mtheir\u001b[0m \u001b[0mpotential\u001b[0m \u001b[0mraises\u001b[0m\u001b[1;33m.\u001b[0m\u001b[1;33m\u001b[0m\u001b[1;33m\u001b[0m\u001b[0m\n\u001b[0;32m   1361\u001b[0m         \"\"\"\n\u001b[1;32m-> 1362\u001b[1;33m         self.handles = get_handle(\n\u001b[0m\u001b[0;32m   1363\u001b[0m             \u001b[0msrc\u001b[0m\u001b[1;33m,\u001b[0m\u001b[1;33m\u001b[0m\u001b[1;33m\u001b[0m\u001b[0m\n\u001b[0;32m   1364\u001b[0m             \u001b[1;34m\"r\"\u001b[0m\u001b[1;33m,\u001b[0m\u001b[1;33m\u001b[0m\u001b[1;33m\u001b[0m\u001b[0m\n",
      "\u001b[1;32mD:\\Anaconda\\lib\\site-packages\\pandas\\io\\common.py\u001b[0m in \u001b[0;36mget_handle\u001b[1;34m(path_or_buf, mode, encoding, compression, memory_map, is_text, errors, storage_options)\u001b[0m\n\u001b[0;32m    640\u001b[0m                 \u001b[0merrors\u001b[0m \u001b[1;33m=\u001b[0m \u001b[1;34m\"replace\"\u001b[0m\u001b[1;33m\u001b[0m\u001b[1;33m\u001b[0m\u001b[0m\n\u001b[0;32m    641\u001b[0m             \u001b[1;31m# Encoding\u001b[0m\u001b[1;33m\u001b[0m\u001b[1;33m\u001b[0m\u001b[1;33m\u001b[0m\u001b[0m\n\u001b[1;32m--> 642\u001b[1;33m             handle = open(\n\u001b[0m\u001b[0;32m    643\u001b[0m                 \u001b[0mhandle\u001b[0m\u001b[1;33m,\u001b[0m\u001b[1;33m\u001b[0m\u001b[1;33m\u001b[0m\u001b[0m\n\u001b[0;32m    644\u001b[0m                 \u001b[0mioargs\u001b[0m\u001b[1;33m.\u001b[0m\u001b[0mmode\u001b[0m\u001b[1;33m,\u001b[0m\u001b[1;33m\u001b[0m\u001b[1;33m\u001b[0m\u001b[0m\n",
      "\u001b[1;31mFileNotFoundError\u001b[0m: [Errno 2] No such file or directory: '/datasets/Churn.csv'"
     ]
    }
   ],
   "source": [
    "df = pd.read_csv('/datasets/Churn.csv')"
   ]
  },
  {
   "cell_type": "markdown",
   "metadata": {},
   "source": [
    "## Исследование задачи"
   ]
  },
  {
   "cell_type": "code",
   "execution_count": null,
   "metadata": {},
   "outputs": [],
   "source": [
    "df.head()"
   ]
  },
  {
   "cell_type": "markdown",
   "metadata": {},
   "source": [
    "RowNumber — индекс строки в данных \\\n",
    "CustomerId — уникальный идентификатор клиента \\\n",
    "Surname — фамилия \\\n",
    "CreditScore — кредитный рейтинг \\\n",
    "Geography — страна проживания \\\n",
    "Gender — пол \\\n",
    "Age — возраст \\\n",
    "Tenure — сколько лет человек является клиентом банка \\\n",
    "Balance — баланс на счёте \\\n",
    "NumOfProducts — количество продуктов банка, используемых клиентом \\\n",
    "HasCrCard — наличие кредитной карты \\\n",
    "IsActiveMember — активность клиента \\\n",
    "EstimatedSalary — предполагаемая зарплата "
   ]
  },
  {
   "cell_type": "code",
   "execution_count": null,
   "metadata": {},
   "outputs": [],
   "source": [
    "df.info()"
   ]
  },
  {
   "cell_type": "code",
   "execution_count": null,
   "metadata": {},
   "outputs": [],
   "source": [
    "df.describe()"
   ]
  },
  {
   "cell_type": "code",
   "execution_count": null,
   "metadata": {},
   "outputs": [],
   "source": [
    "df.duplicated().sum()"
   ]
  },
  {
   "cell_type": "code",
   "execution_count": null,
   "metadata": {},
   "outputs": [],
   "source": [
    "a = df['Tenure'].median()\n",
    "a"
   ]
  },
  {
   "cell_type": "code",
   "execution_count": null,
   "metadata": {},
   "outputs": [],
   "source": [
    "df['Tenure'].mean()"
   ]
  },
  {
   "cell_type": "code",
   "execution_count": null,
   "metadata": {},
   "outputs": [],
   "source": [
    "df['Tenure'] = df['Tenure'].fillna(a)"
   ]
  },
  {
   "cell_type": "markdown",
   "metadata": {},
   "source": [
    "Так как медиана является более устойчивым показателем к выбросам в данных. В нашем случае медиана (=5) практически равна среднему значению (=4.997690023099769). Поэтому можем предположить, что данные имеют нормальное распределение.  "
   ]
  },
  {
   "cell_type": "code",
   "execution_count": null,
   "metadata": {},
   "outputs": [],
   "source": [
    "df.info()"
   ]
  },
  {
   "cell_type": "code",
   "execution_count": null,
   "metadata": {},
   "outputs": [],
   "source": [
    "df['Geography'].unique()"
   ]
  },
  {
   "cell_type": "code",
   "execution_count": null,
   "metadata": {},
   "outputs": [],
   "source": [
    "dfp = df.drop(['RowNumber','CustomerId', 'Surname'], axis = 1)"
   ]
  },
  {
   "cell_type": "code",
   "execution_count": null,
   "metadata": {},
   "outputs": [],
   "source": [
    "from sklearn.preprocessing import OrdinalEncoder"
   ]
  },
  {
   "cell_type": "code",
   "execution_count": null,
   "metadata": {},
   "outputs": [],
   "source": [
    "encoder = OrdinalEncoder()\n",
    "encoder.fit(dfp[['Geography', 'Gender']])\n",
    "dfp[['Geography', 'Gender']] = encoder.transform(dfp[['Geography', 'Gender']])\n",
    "dfp = pd.DataFrame(dfp, columns = dfp.columns)"
   ]
  },
  {
   "cell_type": "code",
   "execution_count": null,
   "metadata": {},
   "outputs": [],
   "source": [
    "dfp"
   ]
  },
  {
   "cell_type": "code",
   "execution_count": null,
   "metadata": {},
   "outputs": [],
   "source": [
    "y = dfp['Exited']\n",
    "x = dfp.drop(['Exited'], axis = 1)"
   ]
  },
  {
   "cell_type": "code",
   "execution_count": null,
   "metadata": {},
   "outputs": [],
   "source": [
    "x_train, x_v, y_train, y_v = train_test_split(x,y,test_size = 0.4, random_state = 12345)\n",
    "x_valid, x_test, y_valid, y_test = train_test_split(x_v,y_v,test_size = 0.5, random_state = 12345)"
   ]
  },
  {
   "cell_type": "code",
   "execution_count": null,
   "metadata": {
    "scrolled": true
   },
   "outputs": [],
   "source": [
    "best_score = 0\n",
    "best_depth = 0\n",
    "best_est = 0\n",
    "for est in range(5,70,5):\n",
    "    for depth in range(3,25):\n",
    "        model = RandomForestClassifier(max_depth = depth, n_estimators = est, random_state = 12345)\n",
    "        model.fit(x_train, y_train)\n",
    "        y_pred = model.predict(x_valid)\n",
    "        sc = accuracy_score(y_valid, y_pred)  \n",
    "        if sc > best_score:\n",
    "            best_score = sc\n",
    "            best_depth = depth\n",
    "            best_est = est\n",
    "print(best_depth)\n",
    "print(best_est)\n",
    "print(best_score)"
   ]
  },
  {
   "cell_type": "markdown",
   "metadata": {},
   "source": [
    "## Борьба с дисбалансом"
   ]
  },
  {
   "cell_type": "code",
   "execution_count": null,
   "metadata": {
    "scrolled": true
   },
   "outputs": [],
   "source": [
    "y.value_counts(normalize=1)"
   ]
  },
  {
   "cell_type": "code",
   "execution_count": null,
   "metadata": {},
   "outputs": [],
   "source": [
    "y.plot(kind = 'hist', bins = 2)"
   ]
  },
  {
   "cell_type": "code",
   "execution_count": null,
   "metadata": {},
   "outputs": [],
   "source": [
    "def score(y_valid,y_pred):\n",
    "    print('Полнота', recall_score(y_valid, y_pred))\n",
    "    print('Точность', precision_score(y_valid, y_pred))\n",
    "    print('F1', f1_score(y_valid, y_pred))"
   ]
  },
  {
   "cell_type": "code",
   "execution_count": null,
   "metadata": {},
   "outputs": [],
   "source": [
    "def model(x_train, y_train, x_valid, y_valid):\n",
    "    model_DT = DecisionTreeClassifier(random_state=12345)\n",
    "    model_DT.fit(x_train, y_train)\n",
    "    DT = pd.Series(model_DT.predict(x_valid)).value_counts(normalize=1)\n",
    "    \n",
    "    model_RF = RandomForestClassifier(random_state=12345)\n",
    "    model_RF.fit(x_train, y_train)\n",
    "    RF = pd.Series(model_RF.predict(x_valid)).value_counts(normalize=1)\n",
    "\n",
    "    model_LG = LogisticRegression(solver='liblinear',random_state=12345)\n",
    "    model_LG.fit(x_train, y_train)\n",
    "    LG = pd.Series(model_LG.predict(x_valid)).value_counts(normalize=1)\n",
    "    \n",
    "    print('Доли ответов для дерева решений')\n",
    "    print(DT)\n",
    "    print('Доли ответов для случайного леса')\n",
    "    print(RF)\n",
    "    print('Доли ответов для логистической регрессии')\n",
    "    print(LG)"
   ]
  },
  {
   "cell_type": "code",
   "execution_count": null,
   "metadata": {},
   "outputs": [],
   "source": [
    "model(x_train, y_train, x_valid, y_valid)"
   ]
  },
  {
   "cell_type": "code",
   "execution_count": null,
   "metadata": {},
   "outputs": [],
   "source": [
    "model_RF = RandomForestClassifier(max_depth = 10, n_estimators = 40, random_state=12345)\n",
    "model_RF.fit(x_train, y_train)\n",
    "y_RF = model_RF.predict(x_valid)\n",
    "confusion_matrix(y_valid, y_RF)"
   ]
  },
  {
   "cell_type": "code",
   "execution_count": null,
   "metadata": {},
   "outputs": [],
   "source": [
    "score(y_valid, y_RF)"
   ]
  },
  {
   "cell_type": "code",
   "execution_count": null,
   "metadata": {},
   "outputs": [],
   "source": [
    "probabilities_valid = model_RF.predict_proba(x_valid)\n",
    "probabilities_one_valid = probabilities_valid[:, 1]"
   ]
  },
  {
   "cell_type": "code",
   "execution_count": null,
   "metadata": {},
   "outputs": [],
   "source": [
    "roc = model_RF.predict_proba(x_valid)[:,1]\n",
    "auc_roc = roc_auc_score(y_valid, roc)\n",
    "auc_roc"
   ]
  },
  {
   "cell_type": "code",
   "execution_count": null,
   "metadata": {},
   "outputs": [],
   "source": [
    "fpr, tpr, thresholds = roc_curve(y_valid, probabilities_one_valid) \n",
    "plt.figure()\n",
    "plt.plot(fpr, tpr)\n",
    "plt.plot([0, 1], [0, 1], linestyle='--')\n",
    "plt.xlim([0.0, 1.0])\n",
    "plt.ylim([0.0, 1.0])\n",
    "plt.xlabel(\"False Positive Rate\")\n",
    "plt.ylabel(\"True Positive Rate\")\n",
    "plt.title(\"ROC-кривая\")\n",
    "plt.show()"
   ]
  },
  {
   "cell_type": "code",
   "execution_count": null,
   "metadata": {},
   "outputs": [],
   "source": [
    "def upsample(x,y,repeat):\n",
    "    x_zeros = x[y==0]\n",
    "    x_ones = x[y==1]\n",
    "    y_zeros = y[y==0]\n",
    "    y_ones = y[y==1]\n",
    "    \n",
    "    x_upsampled = pd.concat([x_zeros] + [x_ones]*repeat)\n",
    "    y_upsampled = pd.concat([y_zeros] + [y_ones]*repeat)\n",
    "    x_upsampled, y_upsampled  = shuffle(x_upsampled, y_upsampled, random_state=12345)\n",
    "    \n",
    "    return x_upsampled, y_upsampled"
   ]
  },
  {
   "cell_type": "code",
   "execution_count": null,
   "metadata": {},
   "outputs": [],
   "source": [
    "x_upsampled, y_upsampled = upsample(x_train,y_train,4)"
   ]
  },
  {
   "cell_type": "code",
   "execution_count": null,
   "metadata": {},
   "outputs": [],
   "source": [
    "y_upsampled.value_counts(normalize=1)"
   ]
  },
  {
   "cell_type": "code",
   "execution_count": null,
   "metadata": {},
   "outputs": [],
   "source": [
    "model_RF_1 = RandomForestClassifier(max_depth = 10, n_estimators = 40, random_state=12345)\n",
    "model_RF_1.fit(x_upsampled, y_upsampled)\n",
    "y_RF_1 = model_RF_1.predict(x_valid)\n",
    "confusion_matrix(y_valid, y_RF_1)"
   ]
  },
  {
   "cell_type": "code",
   "execution_count": null,
   "metadata": {},
   "outputs": [],
   "source": [
    "score(y_valid, y_RF_1)"
   ]
  },
  {
   "cell_type": "code",
   "execution_count": null,
   "metadata": {},
   "outputs": [],
   "source": [
    "def downsample(x,y,fraction):\n",
    "    x_zeros = x[y==0]\n",
    "    x_ones = x[y==1]\n",
    "    y_zeros = y[y==0]\n",
    "    y_ones = y[y==1]\n",
    "    \n",
    "    x_downsample = pd.concat([x_zeros.sample(frac=fraction, random_state=12345)]+[x_ones])\n",
    "    y_downsample = pd.concat([y_zeros.sample(frac=fraction, random_state=12345)]+[y_ones])\n",
    "    x_downsample,y_downsample = shuffle(x_downsample,y_downsample,random_state=12345)\n",
    "    \n",
    "    return x_downsample,y_downsample"
   ]
  },
  {
   "cell_type": "code",
   "execution_count": null,
   "metadata": {},
   "outputs": [],
   "source": [
    "x_downsample,y_downsample = downsample(x_train,y_train,0.25)"
   ]
  },
  {
   "cell_type": "code",
   "execution_count": null,
   "metadata": {},
   "outputs": [],
   "source": [
    "y_downsample.value_counts(normalize=1)"
   ]
  },
  {
   "cell_type": "code",
   "execution_count": null,
   "metadata": {},
   "outputs": [],
   "source": [
    "model_RF = RandomForestClassifier(max_depth = 15, n_estimators = 30, random_state=12345)\n",
    "model_RF.fit(x_downsample,y_downsample)\n",
    "y_RF = model_RF.predict(x_valid)\n",
    "confusion_matrix(y_valid, y_RF)"
   ]
  },
  {
   "cell_type": "code",
   "execution_count": null,
   "metadata": {},
   "outputs": [],
   "source": [
    "score(y_valid, y_RF)"
   ]
  },
  {
   "cell_type": "markdown",
   "metadata": {},
   "source": [
    "Было рассмотрено три модели для решения задачи: решающее дерево, случайный лес, логистическая регрессия. Для дальнейшего использования я оставила модель случайного леса, так как эта модель лучше себя показала при тестировании. Далее были подобраны оптимальные гиперпараметры. И были рассмотрены два метода борьбы с дисбалансом классов. Метод увеличения выборки проявил себя лучше. Поэтому мы оставили его. Тестирование происходило модели случайного леса с подобранными гиперпараметрами и метода увеличения выборки для борьбы с дисбалансом классов. В результате мы добились нужного нам результата - F1 > 0.59"
   ]
  },
  {
   "cell_type": "markdown",
   "metadata": {},
   "source": [
    "## Тестирование модели"
   ]
  },
  {
   "cell_type": "code",
   "execution_count": null,
   "metadata": {},
   "outputs": [],
   "source": [
    "y_pred = model_RF_1.predict(x_test)\n",
    "score(y_test, y_pred)"
   ]
  },
  {
   "cell_type": "code",
   "execution_count": null,
   "metadata": {},
   "outputs": [],
   "source": [
    "probabilities_test = model_RF.predict_proba(x_test)\n",
    "probabilities_one_test = probabilities_test[:, 1]"
   ]
  },
  {
   "cell_type": "code",
   "execution_count": null,
   "metadata": {},
   "outputs": [],
   "source": [
    "roc = model_RF_1.predict_proba(x_test)[:,1]\n",
    "auc_roc = roc_auc_score(y_test, roc)\n",
    "auc_roc"
   ]
  },
  {
   "cell_type": "code",
   "execution_count": null,
   "metadata": {},
   "outputs": [],
   "source": [
    "fpr, tpr, thresholds = roc_curve(y_test, probabilities_one_test) \n",
    "plt.figure()\n",
    "plt.plot(fpr, tpr)\n",
    "plt.plot([0, 1], [0, 1], linestyle='--')\n",
    "plt.xlim([0.0, 1.0])\n",
    "plt.ylim([0.0, 1.0])\n",
    "plt.xlabel(\"False Positive Rate\")\n",
    "plt.ylabel(\"True Positive Rate\")\n",
    "plt.title(\"ROC-кривая\")\n",
    "plt.show()"
   ]
  },
  {
   "cell_type": "markdown",
   "metadata": {},
   "source": [
    "## Чек-лист готовности проекта"
   ]
  },
  {
   "cell_type": "markdown",
   "metadata": {},
   "source": [
    "Поставьте 'x' в выполненных пунктах. Далее нажмите Shift+Enter."
   ]
  },
  {
   "cell_type": "markdown",
   "metadata": {},
   "source": [
    "- [x]  Jupyter Notebook открыт\n",
    "- [x]  Весь код выполняется без ошибок\n",
    "- [x]  Ячейки с кодом расположены в порядке исполнения\n",
    "- [x]  Выполнен шаг 1: данные подготовлены\n",
    "- [x]  Выполнен шаг 2: задача исследована\n",
    "    - [x]  Исследован баланс классов\n",
    "    - [x]  Изучены модели без учёта дисбаланса\n",
    "    - [x]  Написаны выводы по результатам исследования\n",
    "- [x]  Выполнен шаг 3: учтён дисбаланс\n",
    "    - [x]  Применено несколько способов борьбы с дисбалансом\n",
    "    - [x]  Написаны выводы по результатам исследования\n",
    "- [x]  Выполнен шаг 4: проведено тестирование\n",
    "- [x]  Удалось достичь *F1*-меры не менее 0.59\n",
    "- [x]  Исследована метрика *AUC-ROC*"
   ]
  }
 ],
 "metadata": {
  "ExecuteTimeLog": [
   {
    "duration": 62,
    "start_time": "2022-12-08T08:27:11.006Z"
   },
   {
    "duration": 407,
    "start_time": "2022-12-08T08:27:14.221Z"
   },
   {
    "duration": 105,
    "start_time": "2022-12-08T08:27:14.696Z"
   },
   {
    "duration": 41,
    "start_time": "2022-12-08T08:27:18.664Z"
   },
   {
    "duration": 18,
    "start_time": "2022-12-08T08:28:45.387Z"
   },
   {
    "duration": 14,
    "start_time": "2022-12-08T08:33:52.810Z"
   },
   {
    "duration": 49,
    "start_time": "2022-12-08T08:34:31.003Z"
   },
   {
    "duration": 14,
    "start_time": "2022-12-08T08:36:05.088Z"
   },
   {
    "duration": 404,
    "start_time": "2022-12-08T08:38:42.005Z"
   },
   {
    "duration": 42,
    "start_time": "2022-12-08T08:38:42.411Z"
   },
   {
    "duration": 20,
    "start_time": "2022-12-08T08:38:42.455Z"
   },
   {
    "duration": 31,
    "start_time": "2022-12-08T08:38:42.476Z"
   },
   {
    "duration": 59,
    "start_time": "2022-12-08T08:38:42.510Z"
   },
   {
    "duration": 16,
    "start_time": "2022-12-08T08:38:42.571Z"
   },
   {
    "duration": 21,
    "start_time": "2022-12-08T08:38:42.592Z"
   },
   {
    "duration": 22,
    "start_time": "2022-12-08T08:39:10.699Z"
   },
   {
    "duration": 21,
    "start_time": "2022-12-08T08:40:56.244Z"
   },
   {
    "duration": 9,
    "start_time": "2022-12-08T08:41:19.830Z"
   },
   {
    "duration": 9,
    "start_time": "2022-12-08T08:41:32.135Z"
   },
   {
    "duration": 13,
    "start_time": "2022-12-08T08:41:36.826Z"
   },
   {
    "duration": 5,
    "start_time": "2022-12-08T08:43:10.550Z"
   },
   {
    "duration": 16,
    "start_time": "2022-12-08T08:45:25.618Z"
   },
   {
    "duration": 9,
    "start_time": "2022-12-08T08:45:32.860Z"
   },
   {
    "duration": 11,
    "start_time": "2022-12-08T08:46:19.191Z"
   },
   {
    "duration": 241,
    "start_time": "2022-12-08T08:48:35.477Z"
   },
   {
    "duration": 453,
    "start_time": "2022-12-08T08:51:28.653Z"
   },
   {
    "duration": 44,
    "start_time": "2022-12-08T08:51:29.108Z"
   },
   {
    "duration": 22,
    "start_time": "2022-12-08T08:51:29.155Z"
   },
   {
    "duration": 18,
    "start_time": "2022-12-08T08:51:29.178Z"
   },
   {
    "duration": 54,
    "start_time": "2022-12-08T08:51:29.199Z"
   },
   {
    "duration": 34,
    "start_time": "2022-12-08T08:51:29.255Z"
   },
   {
    "duration": 4,
    "start_time": "2022-12-08T08:51:29.291Z"
   },
   {
    "duration": 18,
    "start_time": "2022-12-08T08:51:29.297Z"
   },
   {
    "duration": 5,
    "start_time": "2022-12-08T08:51:29.317Z"
   },
   {
    "duration": 9,
    "start_time": "2022-12-08T08:51:29.324Z"
   },
   {
    "duration": 28,
    "start_time": "2022-12-08T08:51:29.335Z"
   },
   {
    "duration": 17,
    "start_time": "2022-12-08T08:51:29.377Z"
   },
   {
    "duration": 74,
    "start_time": "2022-12-08T08:51:29.397Z"
   },
   {
    "duration": 21,
    "start_time": "2022-12-08T08:52:31.630Z"
   },
   {
    "duration": 18,
    "start_time": "2022-12-08T08:52:44.715Z"
   },
   {
    "duration": 409,
    "start_time": "2022-12-08T08:52:54.013Z"
   },
   {
    "duration": 46,
    "start_time": "2022-12-08T08:52:54.427Z"
   },
   {
    "duration": 26,
    "start_time": "2022-12-08T08:52:54.475Z"
   },
   {
    "duration": 14,
    "start_time": "2022-12-08T08:52:54.503Z"
   },
   {
    "duration": 75,
    "start_time": "2022-12-08T08:52:54.519Z"
   },
   {
    "duration": 13,
    "start_time": "2022-12-08T08:52:54.597Z"
   },
   {
    "duration": 4,
    "start_time": "2022-12-08T08:52:54.611Z"
   },
   {
    "duration": 16,
    "start_time": "2022-12-08T08:52:54.617Z"
   },
   {
    "duration": 15,
    "start_time": "2022-12-08T08:52:54.635Z"
   },
   {
    "duration": 10,
    "start_time": "2022-12-08T08:52:54.653Z"
   },
   {
    "duration": 32,
    "start_time": "2022-12-08T08:52:54.677Z"
   },
   {
    "duration": 11,
    "start_time": "2022-12-08T08:52:54.711Z"
   },
   {
    "duration": 13,
    "start_time": "2022-12-08T08:52:54.725Z"
   },
   {
    "duration": 6,
    "start_time": "2022-12-08T08:54:17.220Z"
   },
   {
    "duration": 796,
    "start_time": "2022-12-08T08:55:16.553Z"
   },
   {
    "duration": 11,
    "start_time": "2022-12-08T08:58:11.237Z"
   },
   {
    "duration": 1116,
    "start_time": "2022-12-08T08:59:33.798Z"
   },
   {
    "duration": 42,
    "start_time": "2022-12-08T08:59:34.916Z"
   },
   {
    "duration": 34,
    "start_time": "2022-12-08T08:59:34.960Z"
   },
   {
    "duration": 14,
    "start_time": "2022-12-08T08:59:34.996Z"
   },
   {
    "duration": 42,
    "start_time": "2022-12-08T08:59:35.012Z"
   },
   {
    "duration": 27,
    "start_time": "2022-12-08T08:59:35.056Z"
   },
   {
    "duration": 7,
    "start_time": "2022-12-08T08:59:35.086Z"
   },
   {
    "duration": 21,
    "start_time": "2022-12-08T08:59:35.095Z"
   },
   {
    "duration": 8,
    "start_time": "2022-12-08T08:59:35.119Z"
   },
   {
    "duration": 10,
    "start_time": "2022-12-08T08:59:35.128Z"
   },
   {
    "duration": 28,
    "start_time": "2022-12-08T08:59:35.139Z"
   },
   {
    "duration": 9,
    "start_time": "2022-12-08T08:59:35.177Z"
   },
   {
    "duration": 22,
    "start_time": "2022-12-08T08:59:35.187Z"
   },
   {
    "duration": 13,
    "start_time": "2022-12-08T08:59:35.212Z"
   },
   {
    "duration": 9,
    "start_time": "2022-12-08T08:59:35.227Z"
   },
   {
    "duration": 4,
    "start_time": "2022-12-08T08:59:54.424Z"
   },
   {
    "duration": 999,
    "start_time": "2022-12-08T09:01:51.474Z"
   },
   {
    "duration": 953,
    "start_time": "2022-12-08T09:02:06.474Z"
   },
   {
    "duration": 943,
    "start_time": "2022-12-08T09:02:36.455Z"
   },
   {
    "duration": 1191,
    "start_time": "2022-12-08T09:03:24.559Z"
   },
   {
    "duration": 65,
    "start_time": "2022-12-08T09:03:25.753Z"
   },
   {
    "duration": 32,
    "start_time": "2022-12-08T09:03:25.821Z"
   },
   {
    "duration": 33,
    "start_time": "2022-12-08T09:03:25.855Z"
   },
   {
    "duration": 79,
    "start_time": "2022-12-08T09:03:25.897Z"
   },
   {
    "duration": 16,
    "start_time": "2022-12-08T09:03:25.986Z"
   },
   {
    "duration": 5,
    "start_time": "2022-12-08T09:03:26.004Z"
   },
   {
    "duration": 19,
    "start_time": "2022-12-08T09:03:26.011Z"
   },
   {
    "duration": 12,
    "start_time": "2022-12-08T09:03:26.032Z"
   },
   {
    "duration": 11,
    "start_time": "2022-12-08T09:03:26.046Z"
   },
   {
    "duration": 54,
    "start_time": "2022-12-08T09:03:26.060Z"
   },
   {
    "duration": 6,
    "start_time": "2022-12-08T09:03:26.116Z"
   },
   {
    "duration": 16,
    "start_time": "2022-12-08T09:03:26.124Z"
   },
   {
    "duration": 896,
    "start_time": "2022-12-08T09:03:26.143Z"
   },
   {
    "duration": 10,
    "start_time": "2022-12-08T09:03:27.041Z"
   },
   {
    "duration": 39,
    "start_time": "2022-12-08T09:03:27.053Z"
   },
   {
    "duration": 1197,
    "start_time": "2022-12-08T09:03:59.364Z"
   },
   {
    "duration": 51,
    "start_time": "2022-12-08T09:04:00.563Z"
   },
   {
    "duration": 34,
    "start_time": "2022-12-08T09:04:00.616Z"
   },
   {
    "duration": 16,
    "start_time": "2022-12-08T09:04:00.654Z"
   },
   {
    "duration": 59,
    "start_time": "2022-12-08T09:04:00.672Z"
   },
   {
    "duration": 25,
    "start_time": "2022-12-08T09:04:00.733Z"
   },
   {
    "duration": 43,
    "start_time": "2022-12-08T09:04:00.760Z"
   },
   {
    "duration": 45,
    "start_time": "2022-12-08T09:04:00.805Z"
   },
   {
    "duration": 16,
    "start_time": "2022-12-08T09:04:00.853Z"
   },
   {
    "duration": 31,
    "start_time": "2022-12-08T09:04:00.872Z"
   },
   {
    "duration": 64,
    "start_time": "2022-12-08T09:04:00.905Z"
   },
   {
    "duration": 25,
    "start_time": "2022-12-08T09:04:00.972Z"
   },
   {
    "duration": 58,
    "start_time": "2022-12-08T09:04:01.000Z"
   },
   {
    "duration": 946,
    "start_time": "2022-12-08T09:04:01.060Z"
   },
   {
    "duration": 10,
    "start_time": "2022-12-08T09:04:02.008Z"
   },
   {
    "duration": 19,
    "start_time": "2022-12-08T09:04:02.020Z"
   },
   {
    "duration": 886,
    "start_time": "2022-12-08T09:04:30.233Z"
   },
   {
    "duration": 1197,
    "start_time": "2022-12-08T09:10:03.164Z"
   },
   {
    "duration": 42,
    "start_time": "2022-12-08T09:10:04.362Z"
   },
   {
    "duration": 22,
    "start_time": "2022-12-08T09:10:04.406Z"
   },
   {
    "duration": 14,
    "start_time": "2022-12-08T09:10:04.431Z"
   },
   {
    "duration": 48,
    "start_time": "2022-12-08T09:10:04.447Z"
   },
   {
    "duration": 12,
    "start_time": "2022-12-08T09:10:04.497Z"
   },
   {
    "duration": 4,
    "start_time": "2022-12-08T09:10:04.511Z"
   },
   {
    "duration": 23,
    "start_time": "2022-12-08T09:10:04.517Z"
   },
   {
    "duration": 5,
    "start_time": "2022-12-08T09:10:04.542Z"
   },
   {
    "duration": 29,
    "start_time": "2022-12-08T09:10:04.549Z"
   },
   {
    "duration": 21,
    "start_time": "2022-12-08T09:10:04.580Z"
   },
   {
    "duration": 6,
    "start_time": "2022-12-08T09:10:04.603Z"
   },
   {
    "duration": 18,
    "start_time": "2022-12-08T09:10:04.610Z"
   },
   {
    "duration": 1840,
    "start_time": "2022-12-08T09:10:04.630Z"
   },
   {
    "duration": 14,
    "start_time": "2022-12-08T09:10:06.471Z"
   },
   {
    "duration": 10,
    "start_time": "2022-12-08T09:10:06.486Z"
   },
   {
    "duration": 1266,
    "start_time": "2022-12-08T09:11:07.608Z"
   },
   {
    "duration": 51,
    "start_time": "2022-12-08T09:11:08.877Z"
   },
   {
    "duration": 28,
    "start_time": "2022-12-08T09:11:08.931Z"
   },
   {
    "duration": 52,
    "start_time": "2022-12-08T09:11:08.961Z"
   },
   {
    "duration": 46,
    "start_time": "2022-12-08T09:11:09.016Z"
   },
   {
    "duration": 15,
    "start_time": "2022-12-08T09:11:09.064Z"
   },
   {
    "duration": 17,
    "start_time": "2022-12-08T09:11:09.082Z"
   },
   {
    "duration": 17,
    "start_time": "2022-12-08T09:11:09.101Z"
   },
   {
    "duration": 5,
    "start_time": "2022-12-08T09:11:09.120Z"
   },
   {
    "duration": 27,
    "start_time": "2022-12-08T09:11:09.127Z"
   },
   {
    "duration": 26,
    "start_time": "2022-12-08T09:11:09.156Z"
   },
   {
    "duration": 6,
    "start_time": "2022-12-08T09:11:09.184Z"
   },
   {
    "duration": 10,
    "start_time": "2022-12-08T09:11:09.192Z"
   },
   {
    "duration": 8038,
    "start_time": "2022-12-08T09:11:09.205Z"
   },
   {
    "duration": 10,
    "start_time": "2022-12-08T09:11:17.245Z"
   },
   {
    "duration": 24,
    "start_time": "2022-12-08T09:11:17.257Z"
   },
   {
    "duration": 1170,
    "start_time": "2022-12-08T09:11:44.757Z"
   },
   {
    "duration": 41,
    "start_time": "2022-12-08T09:11:45.929Z"
   },
   {
    "duration": 21,
    "start_time": "2022-12-08T09:11:45.972Z"
   },
   {
    "duration": 14,
    "start_time": "2022-12-08T09:11:45.995Z"
   },
   {
    "duration": 42,
    "start_time": "2022-12-08T09:11:46.012Z"
   },
   {
    "duration": 13,
    "start_time": "2022-12-08T09:11:46.077Z"
   },
   {
    "duration": 4,
    "start_time": "2022-12-08T09:11:46.092Z"
   },
   {
    "duration": 15,
    "start_time": "2022-12-08T09:11:46.098Z"
   },
   {
    "duration": 5,
    "start_time": "2022-12-08T09:11:46.115Z"
   },
   {
    "duration": 6,
    "start_time": "2022-12-08T09:11:46.122Z"
   },
   {
    "duration": 56,
    "start_time": "2022-12-08T09:11:46.130Z"
   },
   {
    "duration": 6,
    "start_time": "2022-12-08T09:11:46.188Z"
   },
   {
    "duration": 11,
    "start_time": "2022-12-08T09:11:46.195Z"
   },
   {
    "duration": 11488,
    "start_time": "2022-12-08T09:11:46.208Z"
   },
   {
    "duration": 11,
    "start_time": "2022-12-08T09:11:57.698Z"
   },
   {
    "duration": 10,
    "start_time": "2022-12-08T09:11:57.710Z"
   },
   {
    "duration": 8075,
    "start_time": "2022-12-08T09:13:56.074Z"
   },
   {
    "duration": 1316,
    "start_time": "2022-12-12T08:13:48.754Z"
   },
   {
    "duration": 105,
    "start_time": "2022-12-12T08:13:50.072Z"
   },
   {
    "duration": 20,
    "start_time": "2022-12-12T08:13:50.180Z"
   },
   {
    "duration": 25,
    "start_time": "2022-12-12T08:13:50.202Z"
   },
   {
    "duration": 82,
    "start_time": "2022-12-12T08:13:50.229Z"
   },
   {
    "duration": 13,
    "start_time": "2022-12-12T08:13:50.313Z"
   },
   {
    "duration": 17,
    "start_time": "2022-12-12T08:13:50.328Z"
   },
   {
    "duration": 42,
    "start_time": "2022-12-12T08:13:50.347Z"
   },
   {
    "duration": 24,
    "start_time": "2022-12-12T08:13:50.391Z"
   },
   {
    "duration": 20,
    "start_time": "2022-12-12T08:13:50.417Z"
   },
   {
    "duration": 36,
    "start_time": "2022-12-12T08:13:50.439Z"
   },
   {
    "duration": 16,
    "start_time": "2022-12-12T08:13:50.477Z"
   },
   {
    "duration": 36,
    "start_time": "2022-12-12T08:13:50.495Z"
   },
   {
    "duration": 7963,
    "start_time": "2022-12-12T08:13:50.532Z"
   },
   {
    "duration": 121,
    "start_time": "2022-12-12T08:13:58.497Z"
   },
   {
    "duration": 10,
    "start_time": "2022-12-12T08:14:36.694Z"
   },
   {
    "duration": 599,
    "start_time": "2022-12-12T08:15:29.601Z"
   },
   {
    "duration": 1238,
    "start_time": "2022-12-12T08:29:21.028Z"
   },
   {
    "duration": 56,
    "start_time": "2022-12-12T08:29:22.268Z"
   },
   {
    "duration": 24,
    "start_time": "2022-12-12T08:29:22.326Z"
   },
   {
    "duration": 23,
    "start_time": "2022-12-12T08:29:22.356Z"
   },
   {
    "duration": 77,
    "start_time": "2022-12-12T08:29:22.383Z"
   },
   {
    "duration": 14,
    "start_time": "2022-12-12T08:29:22.462Z"
   },
   {
    "duration": 15,
    "start_time": "2022-12-12T08:29:22.479Z"
   },
   {
    "duration": 46,
    "start_time": "2022-12-12T08:29:22.495Z"
   },
   {
    "duration": 29,
    "start_time": "2022-12-12T08:29:22.545Z"
   },
   {
    "duration": 23,
    "start_time": "2022-12-12T08:29:22.576Z"
   },
   {
    "duration": 52,
    "start_time": "2022-12-12T08:29:22.602Z"
   },
   {
    "duration": 32,
    "start_time": "2022-12-12T08:29:22.658Z"
   },
   {
    "duration": 27,
    "start_time": "2022-12-12T08:29:22.693Z"
   },
   {
    "duration": 8539,
    "start_time": "2022-12-12T08:29:22.723Z"
   },
   {
    "duration": 11,
    "start_time": "2022-12-12T08:29:31.265Z"
   },
   {
    "duration": 476,
    "start_time": "2022-12-12T08:29:31.279Z"
   },
   {
    "duration": 4,
    "start_time": "2022-12-12T08:29:31.757Z"
   },
   {
    "duration": 44,
    "start_time": "2022-12-12T08:29:31.762Z"
   },
   {
    "duration": 1147,
    "start_time": "2022-12-12T08:29:31.808Z"
   },
   {
    "duration": 1198,
    "start_time": "2022-12-12T08:30:32.770Z"
   },
   {
    "duration": 50,
    "start_time": "2022-12-12T08:30:33.971Z"
   },
   {
    "duration": 37,
    "start_time": "2022-12-12T08:30:34.023Z"
   },
   {
    "duration": 31,
    "start_time": "2022-12-12T08:30:34.063Z"
   },
   {
    "duration": 78,
    "start_time": "2022-12-12T08:30:34.097Z"
   },
   {
    "duration": 25,
    "start_time": "2022-12-12T08:30:34.177Z"
   },
   {
    "duration": 19,
    "start_time": "2022-12-12T08:30:34.205Z"
   },
   {
    "duration": 62,
    "start_time": "2022-12-12T08:30:34.226Z"
   },
   {
    "duration": 82,
    "start_time": "2022-12-12T08:30:34.291Z"
   },
   {
    "duration": 47,
    "start_time": "2022-12-12T08:30:34.374Z"
   },
   {
    "duration": 75,
    "start_time": "2022-12-12T08:30:34.422Z"
   },
   {
    "duration": 23,
    "start_time": "2022-12-12T08:30:34.499Z"
   },
   {
    "duration": 45,
    "start_time": "2022-12-12T08:30:34.523Z"
   },
   {
    "duration": 9123,
    "start_time": "2022-12-12T08:30:34.571Z"
   },
   {
    "duration": 8,
    "start_time": "2022-12-12T08:30:43.696Z"
   },
   {
    "duration": 446,
    "start_time": "2022-12-12T08:30:43.706Z"
   },
   {
    "duration": 4,
    "start_time": "2022-12-12T08:30:44.154Z"
   },
   {
    "duration": 26,
    "start_time": "2022-12-12T08:30:44.160Z"
   },
   {
    "duration": 1051,
    "start_time": "2022-12-12T08:30:44.189Z"
   },
   {
    "duration": 1225,
    "start_time": "2022-12-12T08:34:17.376Z"
   },
   {
    "duration": 59,
    "start_time": "2022-12-12T08:34:18.603Z"
   },
   {
    "duration": 20,
    "start_time": "2022-12-12T08:34:18.665Z"
   },
   {
    "duration": 13,
    "start_time": "2022-12-12T08:34:18.687Z"
   },
   {
    "duration": 60,
    "start_time": "2022-12-12T08:34:18.702Z"
   },
   {
    "duration": 11,
    "start_time": "2022-12-12T08:34:18.771Z"
   },
   {
    "duration": 10,
    "start_time": "2022-12-12T08:34:18.784Z"
   },
   {
    "duration": 15,
    "start_time": "2022-12-12T08:34:18.795Z"
   },
   {
    "duration": 4,
    "start_time": "2022-12-12T08:34:18.812Z"
   },
   {
    "duration": 12,
    "start_time": "2022-12-12T08:34:18.818Z"
   },
   {
    "duration": 55,
    "start_time": "2022-12-12T08:34:18.831Z"
   },
   {
    "duration": 6,
    "start_time": "2022-12-12T08:34:18.888Z"
   },
   {
    "duration": 20,
    "start_time": "2022-12-12T08:34:18.896Z"
   },
   {
    "duration": 8655,
    "start_time": "2022-12-12T08:34:18.917Z"
   },
   {
    "duration": 8,
    "start_time": "2022-12-12T08:34:27.574Z"
   },
   {
    "duration": 484,
    "start_time": "2022-12-12T08:34:27.583Z"
   },
   {
    "duration": 4,
    "start_time": "2022-12-12T08:34:28.069Z"
   },
   {
    "duration": 19,
    "start_time": "2022-12-12T08:34:28.076Z"
   },
   {
    "duration": 1056,
    "start_time": "2022-12-12T08:34:28.097Z"
   },
   {
    "duration": 1108,
    "start_time": "2022-12-12T08:34:29.159Z"
   },
   {
    "duration": 160,
    "start_time": "2022-12-12T08:36:21.026Z"
   },
   {
    "duration": 1194,
    "start_time": "2022-12-12T08:36:58.815Z"
   },
   {
    "duration": 51,
    "start_time": "2022-12-12T08:37:00.012Z"
   },
   {
    "duration": 25,
    "start_time": "2022-12-12T08:37:00.064Z"
   },
   {
    "duration": 42,
    "start_time": "2022-12-12T08:37:00.090Z"
   },
   {
    "duration": 114,
    "start_time": "2022-12-12T08:37:00.135Z"
   },
   {
    "duration": 13,
    "start_time": "2022-12-12T08:37:00.251Z"
   },
   {
    "duration": 43,
    "start_time": "2022-12-12T08:37:00.266Z"
   },
   {
    "duration": 56,
    "start_time": "2022-12-12T08:37:00.312Z"
   },
   {
    "duration": 5,
    "start_time": "2022-12-12T08:37:00.370Z"
   },
   {
    "duration": 42,
    "start_time": "2022-12-12T08:37:00.377Z"
   },
   {
    "duration": 57,
    "start_time": "2022-12-12T08:37:00.420Z"
   },
   {
    "duration": 32,
    "start_time": "2022-12-12T08:37:00.479Z"
   },
   {
    "duration": 50,
    "start_time": "2022-12-12T08:37:00.512Z"
   },
   {
    "duration": 8861,
    "start_time": "2022-12-12T08:37:00.565Z"
   },
   {
    "duration": 27,
    "start_time": "2022-12-12T08:37:09.428Z"
   },
   {
    "duration": 431,
    "start_time": "2022-12-12T08:37:09.457Z"
   },
   {
    "duration": 5,
    "start_time": "2022-12-12T08:37:09.890Z"
   },
   {
    "duration": 8,
    "start_time": "2022-12-12T08:37:09.896Z"
   },
   {
    "duration": 1062,
    "start_time": "2022-12-12T08:37:09.905Z"
   },
   {
    "duration": 914,
    "start_time": "2022-12-12T08:37:11.040Z"
   },
   {
    "duration": 10,
    "start_time": "2022-12-12T08:37:11.955Z"
   },
   {
    "duration": 1139,
    "start_time": "2022-12-12T08:39:52.828Z"
   },
   {
    "duration": 50,
    "start_time": "2022-12-12T08:39:53.969Z"
   },
   {
    "duration": 31,
    "start_time": "2022-12-12T08:39:54.021Z"
   },
   {
    "duration": 20,
    "start_time": "2022-12-12T08:39:54.054Z"
   },
   {
    "duration": 72,
    "start_time": "2022-12-12T08:39:54.077Z"
   },
   {
    "duration": 11,
    "start_time": "2022-12-12T08:39:54.152Z"
   },
   {
    "duration": 4,
    "start_time": "2022-12-12T08:39:54.165Z"
   },
   {
    "duration": 35,
    "start_time": "2022-12-12T08:39:54.171Z"
   },
   {
    "duration": 13,
    "start_time": "2022-12-12T08:39:54.208Z"
   },
   {
    "duration": 32,
    "start_time": "2022-12-12T08:39:54.223Z"
   },
   {
    "duration": 27,
    "start_time": "2022-12-12T08:39:54.257Z"
   },
   {
    "duration": 9,
    "start_time": "2022-12-12T08:39:54.286Z"
   },
   {
    "duration": 17,
    "start_time": "2022-12-12T08:39:54.297Z"
   },
   {
    "duration": 8210,
    "start_time": "2022-12-12T08:39:54.317Z"
   },
   {
    "duration": 14,
    "start_time": "2022-12-12T08:40:02.535Z"
   },
   {
    "duration": 498,
    "start_time": "2022-12-12T08:40:02.553Z"
   },
   {
    "duration": 6,
    "start_time": "2022-12-12T08:40:03.053Z"
   },
   {
    "duration": 27,
    "start_time": "2022-12-12T08:40:03.063Z"
   },
   {
    "duration": 967,
    "start_time": "2022-12-12T08:40:03.091Z"
   },
   {
    "duration": 1021,
    "start_time": "2022-12-12T08:40:04.061Z"
   },
   {
    "duration": 9,
    "start_time": "2022-12-12T08:40:05.084Z"
   },
   {
    "duration": 90,
    "start_time": "2022-12-12T08:40:05.095Z"
   },
   {
    "duration": 4,
    "start_time": "2022-12-12T08:44:03.100Z"
   },
   {
    "duration": 194,
    "start_time": "2022-12-12T08:44:51.977Z"
   },
   {
    "duration": 1458,
    "start_time": "2022-12-12T08:46:42.404Z"
   },
   {
    "duration": 52,
    "start_time": "2022-12-12T08:46:43.865Z"
   },
   {
    "duration": 41,
    "start_time": "2022-12-12T08:46:43.919Z"
   },
   {
    "duration": 44,
    "start_time": "2022-12-12T08:46:43.962Z"
   },
   {
    "duration": 96,
    "start_time": "2022-12-12T08:46:44.008Z"
   },
   {
    "duration": 13,
    "start_time": "2022-12-12T08:46:44.106Z"
   },
   {
    "duration": 5,
    "start_time": "2022-12-12T08:46:44.121Z"
   },
   {
    "duration": 63,
    "start_time": "2022-12-12T08:46:44.128Z"
   },
   {
    "duration": 9,
    "start_time": "2022-12-12T08:46:44.193Z"
   },
   {
    "duration": 19,
    "start_time": "2022-12-12T08:46:44.205Z"
   },
   {
    "duration": 74,
    "start_time": "2022-12-12T08:46:44.227Z"
   },
   {
    "duration": 6,
    "start_time": "2022-12-12T08:46:44.303Z"
   },
   {
    "duration": 8,
    "start_time": "2022-12-12T08:46:44.311Z"
   },
   {
    "duration": 10350,
    "start_time": "2022-12-12T08:46:44.321Z"
   },
   {
    "duration": 8,
    "start_time": "2022-12-12T08:46:54.673Z"
   },
   {
    "duration": 485,
    "start_time": "2022-12-12T08:46:54.683Z"
   },
   {
    "duration": 4,
    "start_time": "2022-12-12T08:46:55.170Z"
   },
   {
    "duration": 8,
    "start_time": "2022-12-12T08:46:55.178Z"
   },
   {
    "duration": 1165,
    "start_time": "2022-12-12T08:46:55.188Z"
   },
   {
    "duration": 1030,
    "start_time": "2022-12-12T08:46:56.355Z"
   },
   {
    "duration": 13,
    "start_time": "2022-12-12T08:46:57.388Z"
   },
   {
    "duration": 93,
    "start_time": "2022-12-12T08:46:57.403Z"
   },
   {
    "duration": 4,
    "start_time": "2022-12-12T08:46:57.498Z"
   },
   {
    "duration": 7,
    "start_time": "2022-12-12T08:46:57.504Z"
   },
   {
    "duration": 155,
    "start_time": "2022-12-12T08:47:33.761Z"
   },
   {
    "duration": 1634,
    "start_time": "2022-12-12T08:48:10.415Z"
   },
   {
    "duration": 61,
    "start_time": "2022-12-12T08:48:12.052Z"
   },
   {
    "duration": 33,
    "start_time": "2022-12-12T08:48:12.115Z"
   },
   {
    "duration": 53,
    "start_time": "2022-12-12T08:48:12.150Z"
   },
   {
    "duration": 63,
    "start_time": "2022-12-12T08:48:12.205Z"
   },
   {
    "duration": 18,
    "start_time": "2022-12-12T08:48:12.275Z"
   },
   {
    "duration": 14,
    "start_time": "2022-12-12T08:48:12.295Z"
   },
   {
    "duration": 90,
    "start_time": "2022-12-12T08:48:12.311Z"
   },
   {
    "duration": 61,
    "start_time": "2022-12-12T08:48:12.403Z"
   },
   {
    "duration": 57,
    "start_time": "2022-12-12T08:48:12.465Z"
   },
   {
    "duration": 84,
    "start_time": "2022-12-12T08:48:12.524Z"
   },
   {
    "duration": 53,
    "start_time": "2022-12-12T08:48:12.609Z"
   },
   {
    "duration": 49,
    "start_time": "2022-12-12T08:48:12.664Z"
   },
   {
    "duration": 9466,
    "start_time": "2022-12-12T08:48:12.717Z"
   },
   {
    "duration": 10,
    "start_time": "2022-12-12T08:48:22.184Z"
   },
   {
    "duration": 269,
    "start_time": "2022-12-12T08:48:22.195Z"
   },
   {
    "duration": 7,
    "start_time": "2022-12-12T08:48:22.472Z"
   },
   {
    "duration": 89,
    "start_time": "2022-12-12T08:48:22.481Z"
   },
   {
    "duration": 1170,
    "start_time": "2022-12-12T08:48:22.576Z"
   },
   {
    "duration": 1074,
    "start_time": "2022-12-12T08:48:23.748Z"
   },
   {
    "duration": 25,
    "start_time": "2022-12-12T08:48:24.824Z"
   },
   {
    "duration": 90,
    "start_time": "2022-12-12T08:48:24.856Z"
   },
   {
    "duration": 15,
    "start_time": "2022-12-12T08:48:24.948Z"
   },
   {
    "duration": 219,
    "start_time": "2022-12-12T08:48:24.966Z"
   },
   {
    "duration": 4,
    "start_time": "2022-12-12T08:59:14.212Z"
   },
   {
    "duration": 147,
    "start_time": "2022-12-12T09:00:58.327Z"
   },
   {
    "duration": 1455,
    "start_time": "2022-12-12T09:01:40.607Z"
   },
   {
    "duration": 44,
    "start_time": "2022-12-12T09:01:42.065Z"
   },
   {
    "duration": 27,
    "start_time": "2022-12-12T09:01:42.110Z"
   },
   {
    "duration": 20,
    "start_time": "2022-12-12T09:01:42.141Z"
   },
   {
    "duration": 57,
    "start_time": "2022-12-12T09:01:42.163Z"
   },
   {
    "duration": 29,
    "start_time": "2022-12-12T09:01:42.222Z"
   },
   {
    "duration": 11,
    "start_time": "2022-12-12T09:01:42.253Z"
   },
   {
    "duration": 26,
    "start_time": "2022-12-12T09:01:42.266Z"
   },
   {
    "duration": 6,
    "start_time": "2022-12-12T09:01:42.294Z"
   },
   {
    "duration": 4,
    "start_time": "2022-12-12T09:01:42.304Z"
   },
   {
    "duration": 38,
    "start_time": "2022-12-12T09:01:42.310Z"
   },
   {
    "duration": 14,
    "start_time": "2022-12-12T09:01:42.352Z"
   },
   {
    "duration": 12,
    "start_time": "2022-12-12T09:01:42.368Z"
   },
   {
    "duration": 8146,
    "start_time": "2022-12-12T09:01:42.382Z"
   },
   {
    "duration": 16,
    "start_time": "2022-12-12T09:01:50.529Z"
   },
   {
    "duration": 181,
    "start_time": "2022-12-12T09:01:50.546Z"
   },
   {
    "duration": 14,
    "start_time": "2022-12-12T09:01:50.729Z"
   },
   {
    "duration": 8,
    "start_time": "2022-12-12T09:01:50.748Z"
   },
   {
    "duration": 980,
    "start_time": "2022-12-12T09:01:50.758Z"
   },
   {
    "duration": 1118,
    "start_time": "2022-12-12T09:01:51.746Z"
   },
   {
    "duration": 16,
    "start_time": "2022-12-12T09:01:52.866Z"
   },
   {
    "duration": 93,
    "start_time": "2022-12-12T09:01:52.885Z"
   },
   {
    "duration": 5,
    "start_time": "2022-12-12T09:01:52.980Z"
   },
   {
    "duration": 216,
    "start_time": "2022-12-12T09:01:52.987Z"
   },
   {
    "duration": 5,
    "start_time": "2022-12-12T09:01:53.204Z"
   },
   {
    "duration": 29,
    "start_time": "2022-12-12T09:01:53.211Z"
   },
   {
    "duration": 6,
    "start_time": "2022-12-12T09:02:29.106Z"
   },
   {
    "duration": 1107,
    "start_time": "2022-12-12T09:03:42.969Z"
   },
   {
    "duration": 9,
    "start_time": "2022-12-12T09:03:45.959Z"
   },
   {
    "duration": 4,
    "start_time": "2022-12-12T09:11:47.906Z"
   },
   {
    "duration": 17,
    "start_time": "2022-12-12T09:12:34.434Z"
   },
   {
    "duration": 6,
    "start_time": "2022-12-12T09:12:36.385Z"
   },
   {
    "duration": 492,
    "start_time": "2022-12-12T09:13:16.272Z"
   },
   {
    "duration": 471,
    "start_time": "2022-12-12T09:13:19.105Z"
   },
   {
    "duration": 12,
    "start_time": "2022-12-12T09:13:34.007Z"
   },
   {
    "duration": 1471,
    "start_time": "2022-12-17T00:17:33.082Z"
   },
   {
    "duration": 90,
    "start_time": "2022-12-17T00:17:34.555Z"
   },
   {
    "duration": 17,
    "start_time": "2022-12-17T00:17:34.646Z"
   },
   {
    "duration": 14,
    "start_time": "2022-12-17T00:17:34.664Z"
   },
   {
    "duration": 40,
    "start_time": "2022-12-17T00:17:34.680Z"
   },
   {
    "duration": 13,
    "start_time": "2022-12-17T00:17:34.722Z"
   },
   {
    "duration": 7,
    "start_time": "2022-12-17T00:17:34.737Z"
   },
   {
    "duration": 16,
    "start_time": "2022-12-17T00:17:34.746Z"
   },
   {
    "duration": 4,
    "start_time": "2022-12-17T00:17:34.763Z"
   },
   {
    "duration": 8,
    "start_time": "2022-12-17T00:17:34.768Z"
   },
   {
    "duration": 44,
    "start_time": "2022-12-17T00:17:34.778Z"
   },
   {
    "duration": 5,
    "start_time": "2022-12-17T00:17:34.824Z"
   },
   {
    "duration": 7,
    "start_time": "2022-12-17T00:17:34.830Z"
   },
   {
    "duration": 7115,
    "start_time": "2022-12-17T00:17:34.839Z"
   },
   {
    "duration": 7,
    "start_time": "2022-12-17T00:17:41.956Z"
   },
   {
    "duration": 162,
    "start_time": "2022-12-17T00:17:41.964Z"
   },
   {
    "duration": 3,
    "start_time": "2022-12-17T00:17:42.128Z"
   },
   {
    "duration": 6,
    "start_time": "2022-12-17T00:17:42.133Z"
   },
   {
    "duration": 886,
    "start_time": "2022-12-17T00:17:42.140Z"
   },
   {
    "duration": 805,
    "start_time": "2022-12-17T00:17:43.115Z"
   },
   {
    "duration": 8,
    "start_time": "2022-12-17T00:17:43.922Z"
   },
   {
    "duration": 69,
    "start_time": "2022-12-17T00:17:43.932Z"
   },
   {
    "duration": 3,
    "start_time": "2022-12-17T00:17:44.016Z"
   },
   {
    "duration": 115,
    "start_time": "2022-12-17T00:17:44.021Z"
   },
   {
    "duration": 53,
    "start_time": "2022-12-17T00:17:44.138Z"
   },
   {
    "duration": 0,
    "start_time": "2022-12-17T00:17:44.193Z"
   },
   {
    "duration": 0,
    "start_time": "2022-12-17T00:17:44.194Z"
   },
   {
    "duration": 0,
    "start_time": "2022-12-17T00:17:44.196Z"
   },
   {
    "duration": 0,
    "start_time": "2022-12-17T00:17:44.198Z"
   },
   {
    "duration": 0,
    "start_time": "2022-12-17T00:17:44.199Z"
   },
   {
    "duration": 0,
    "start_time": "2022-12-17T00:17:44.200Z"
   },
   {
    "duration": 0,
    "start_time": "2022-12-17T00:17:44.202Z"
   },
   {
    "duration": 0,
    "start_time": "2022-12-17T00:17:44.203Z"
   },
   {
    "duration": 0,
    "start_time": "2022-12-17T00:17:44.205Z"
   },
   {
    "duration": 1247,
    "start_time": "2022-12-17T00:18:56.447Z"
   },
   {
    "duration": 40,
    "start_time": "2022-12-17T00:18:57.696Z"
   },
   {
    "duration": 16,
    "start_time": "2022-12-17T00:18:57.738Z"
   },
   {
    "duration": 12,
    "start_time": "2022-12-17T00:18:57.755Z"
   },
   {
    "duration": 49,
    "start_time": "2022-12-17T00:18:57.769Z"
   },
   {
    "duration": 10,
    "start_time": "2022-12-17T00:18:57.820Z"
   },
   {
    "duration": 3,
    "start_time": "2022-12-17T00:18:57.832Z"
   },
   {
    "duration": 12,
    "start_time": "2022-12-17T00:18:57.836Z"
   },
   {
    "duration": 4,
    "start_time": "2022-12-17T00:18:57.850Z"
   },
   {
    "duration": 9,
    "start_time": "2022-12-17T00:18:57.855Z"
   },
   {
    "duration": 20,
    "start_time": "2022-12-17T00:18:57.865Z"
   },
   {
    "duration": 29,
    "start_time": "2022-12-17T00:18:57.887Z"
   },
   {
    "duration": 8,
    "start_time": "2022-12-17T00:18:57.917Z"
   },
   {
    "duration": 7039,
    "start_time": "2022-12-17T00:18:57.927Z"
   },
   {
    "duration": 6,
    "start_time": "2022-12-17T00:19:04.968Z"
   },
   {
    "duration": 146,
    "start_time": "2022-12-17T00:19:04.976Z"
   },
   {
    "duration": 3,
    "start_time": "2022-12-17T00:19:05.124Z"
   },
   {
    "duration": 6,
    "start_time": "2022-12-17T00:19:05.128Z"
   },
   {
    "duration": 884,
    "start_time": "2022-12-17T00:19:05.135Z"
   },
   {
    "duration": 892,
    "start_time": "2022-12-17T00:19:06.020Z"
   },
   {
    "duration": 9,
    "start_time": "2022-12-17T00:19:06.915Z"
   },
   {
    "duration": 64,
    "start_time": "2022-12-17T00:19:06.926Z"
   },
   {
    "duration": 4,
    "start_time": "2022-12-17T00:19:06.992Z"
   },
   {
    "duration": 102,
    "start_time": "2022-12-17T00:19:07.015Z"
   },
   {
    "duration": 4,
    "start_time": "2022-12-17T00:19:07.119Z"
   },
   {
    "duration": 13,
    "start_time": "2022-12-17T00:19:07.125Z"
   },
   {
    "duration": 6,
    "start_time": "2022-12-17T00:19:07.139Z"
   },
   {
    "duration": 1066,
    "start_time": "2022-12-17T00:19:07.147Z"
   },
   {
    "duration": 8,
    "start_time": "2022-12-17T00:19:08.215Z"
   },
   {
    "duration": 7,
    "start_time": "2022-12-17T00:19:08.225Z"
   },
   {
    "duration": 12,
    "start_time": "2022-12-17T00:19:08.234Z"
   },
   {
    "duration": 12,
    "start_time": "2022-12-17T00:19:08.247Z"
   },
   {
    "duration": 405,
    "start_time": "2022-12-17T00:19:08.260Z"
   },
   {
    "duration": 8,
    "start_time": "2022-12-17T00:19:08.667Z"
   },
   {
    "duration": 1527,
    "start_time": "2023-01-10T22:51:53.928Z"
   },
   {
    "duration": 114,
    "start_time": "2023-01-10T22:51:55.458Z"
   },
   {
    "duration": 24,
    "start_time": "2023-01-10T22:51:55.574Z"
   },
   {
    "duration": 18,
    "start_time": "2023-01-10T22:51:55.601Z"
   },
   {
    "duration": 74,
    "start_time": "2023-01-10T22:51:55.622Z"
   },
   {
    "duration": 15,
    "start_time": "2023-01-10T22:51:55.699Z"
   },
   {
    "duration": 11,
    "start_time": "2023-01-10T22:51:55.716Z"
   },
   {
    "duration": 39,
    "start_time": "2023-01-10T22:51:55.729Z"
   },
   {
    "duration": 9,
    "start_time": "2023-01-10T22:51:55.770Z"
   },
   {
    "duration": 9,
    "start_time": "2023-01-10T22:51:55.781Z"
   },
   {
    "duration": 36,
    "start_time": "2023-01-10T22:51:55.792Z"
   },
   {
    "duration": 9,
    "start_time": "2023-01-10T22:51:55.829Z"
   },
   {
    "duration": 22,
    "start_time": "2023-01-10T22:51:55.840Z"
   },
   {
    "duration": 7685,
    "start_time": "2023-01-10T22:51:55.865Z"
   },
   {
    "duration": 10,
    "start_time": "2023-01-10T22:52:03.552Z"
   },
   {
    "duration": 194,
    "start_time": "2023-01-10T22:52:03.564Z"
   },
   {
    "duration": 4,
    "start_time": "2023-01-10T22:52:03.760Z"
   },
   {
    "duration": 11,
    "start_time": "2023-01-10T22:52:03.766Z"
   },
   {
    "duration": 1043,
    "start_time": "2023-01-10T22:52:03.779Z"
   },
   {
    "duration": 1039,
    "start_time": "2023-01-10T22:52:04.830Z"
   },
   {
    "duration": 11,
    "start_time": "2023-01-10T22:52:05.871Z"
   },
   {
    "duration": 87,
    "start_time": "2023-01-10T22:52:05.884Z"
   },
   {
    "duration": 70,
    "start_time": "2023-01-10T22:52:05.972Z"
   },
   {
    "duration": 198,
    "start_time": "2023-01-10T22:52:06.044Z"
   },
   {
    "duration": 5,
    "start_time": "2023-01-10T22:52:06.244Z"
   },
   {
    "duration": 31,
    "start_time": "2023-01-10T22:52:06.253Z"
   },
   {
    "duration": 14,
    "start_time": "2023-01-10T22:52:06.286Z"
   },
   {
    "duration": 1265,
    "start_time": "2023-01-10T22:52:06.303Z"
   },
   {
    "duration": 10,
    "start_time": "2023-01-10T22:52:07.570Z"
   },
   {
    "duration": 4,
    "start_time": "2023-01-10T22:52:07.582Z"
   },
   {
    "duration": 44,
    "start_time": "2023-01-10T22:52:07.588Z"
   },
   {
    "duration": 6,
    "start_time": "2023-01-10T22:52:07.634Z"
   },
   {
    "duration": 417,
    "start_time": "2023-01-10T22:52:07.642Z"
   },
   {
    "duration": 17,
    "start_time": "2023-01-10T22:52:08.061Z"
   },
   {
    "duration": 1614,
    "start_time": "2023-01-11T08:51:42.199Z"
   },
   {
    "duration": 90,
    "start_time": "2023-01-11T08:51:43.816Z"
   },
   {
    "duration": 20,
    "start_time": "2023-01-11T08:51:43.908Z"
   },
   {
    "duration": 16,
    "start_time": "2023-01-11T08:51:43.930Z"
   },
   {
    "duration": 51,
    "start_time": "2023-01-11T08:51:43.948Z"
   },
   {
    "duration": 40,
    "start_time": "2023-01-11T08:51:44.001Z"
   },
   {
    "duration": 866,
    "start_time": "2023-01-11T08:51:44.043Z"
   },
   {
    "duration": 0,
    "start_time": "2023-01-11T08:51:44.913Z"
   },
   {
    "duration": 0,
    "start_time": "2023-01-11T08:51:44.914Z"
   },
   {
    "duration": 0,
    "start_time": "2023-01-11T08:51:44.916Z"
   },
   {
    "duration": 0,
    "start_time": "2023-01-11T08:51:44.917Z"
   },
   {
    "duration": 0,
    "start_time": "2023-01-11T08:51:44.918Z"
   },
   {
    "duration": 0,
    "start_time": "2023-01-11T08:51:44.919Z"
   },
   {
    "duration": 0,
    "start_time": "2023-01-11T08:51:44.921Z"
   },
   {
    "duration": 0,
    "start_time": "2023-01-11T08:51:44.922Z"
   },
   {
    "duration": 0,
    "start_time": "2023-01-11T08:51:44.923Z"
   },
   {
    "duration": 0,
    "start_time": "2023-01-11T08:51:44.924Z"
   },
   {
    "duration": 0,
    "start_time": "2023-01-11T08:51:44.925Z"
   },
   {
    "duration": 0,
    "start_time": "2023-01-11T08:51:44.926Z"
   },
   {
    "duration": 0,
    "start_time": "2023-01-11T08:51:44.927Z"
   },
   {
    "duration": 0,
    "start_time": "2023-01-11T08:51:44.928Z"
   },
   {
    "duration": 0,
    "start_time": "2023-01-11T08:51:44.929Z"
   },
   {
    "duration": 0,
    "start_time": "2023-01-11T08:51:44.930Z"
   },
   {
    "duration": 0,
    "start_time": "2023-01-11T08:51:44.931Z"
   },
   {
    "duration": 0,
    "start_time": "2023-01-11T08:51:44.933Z"
   },
   {
    "duration": 0,
    "start_time": "2023-01-11T08:51:44.934Z"
   },
   {
    "duration": 0,
    "start_time": "2023-01-11T08:51:44.938Z"
   },
   {
    "duration": 0,
    "start_time": "2023-01-11T08:51:44.939Z"
   },
   {
    "duration": 0,
    "start_time": "2023-01-11T08:51:44.941Z"
   },
   {
    "duration": 0,
    "start_time": "2023-01-11T08:51:44.943Z"
   },
   {
    "duration": 0,
    "start_time": "2023-01-11T08:51:44.946Z"
   },
   {
    "duration": 0,
    "start_time": "2023-01-11T08:51:44.948Z"
   },
   {
    "duration": 0,
    "start_time": "2023-01-11T08:51:44.949Z"
   },
   {
    "duration": 0,
    "start_time": "2023-01-11T08:51:44.951Z"
   },
   {
    "duration": 1496,
    "start_time": "2023-01-11T08:52:06.311Z"
   },
   {
    "duration": 41,
    "start_time": "2023-01-11T08:52:07.809Z"
   },
   {
    "duration": 18,
    "start_time": "2023-01-11T08:52:07.852Z"
   },
   {
    "duration": 14,
    "start_time": "2023-01-11T08:52:07.873Z"
   },
   {
    "duration": 68,
    "start_time": "2023-01-11T08:52:07.889Z"
   },
   {
    "duration": 12,
    "start_time": "2023-01-11T08:52:07.959Z"
   },
   {
    "duration": 13,
    "start_time": "2023-01-11T08:52:07.972Z"
   },
   {
    "duration": 29,
    "start_time": "2023-01-11T08:52:07.987Z"
   },
   {
    "duration": 36,
    "start_time": "2023-01-11T08:52:08.018Z"
   },
   {
    "duration": 19,
    "start_time": "2023-01-11T08:52:08.057Z"
   },
   {
    "duration": 49,
    "start_time": "2023-01-11T08:52:08.078Z"
   },
   {
    "duration": 7,
    "start_time": "2023-01-11T08:52:08.128Z"
   },
   {
    "duration": 18,
    "start_time": "2023-01-11T08:52:08.136Z"
   },
   {
    "duration": 7284,
    "start_time": "2023-01-11T08:52:08.156Z"
   },
   {
    "duration": 8,
    "start_time": "2023-01-11T08:52:15.443Z"
   },
   {
    "duration": 186,
    "start_time": "2023-01-11T08:52:15.453Z"
   },
   {
    "duration": 4,
    "start_time": "2023-01-11T08:52:15.641Z"
   },
   {
    "duration": 47,
    "start_time": "2023-01-11T08:52:15.646Z"
   },
   {
    "duration": 1052,
    "start_time": "2023-01-11T08:52:15.695Z"
   },
   {
    "duration": 899,
    "start_time": "2023-01-11T08:52:16.750Z"
   },
   {
    "duration": 10,
    "start_time": "2023-01-11T08:52:17.651Z"
   },
   {
    "duration": 92,
    "start_time": "2023-01-11T08:52:17.663Z"
   },
   {
    "duration": 79,
    "start_time": "2023-01-11T08:52:17.757Z"
   },
   {
    "duration": 140,
    "start_time": "2023-01-11T08:52:17.838Z"
   },
   {
    "duration": 4,
    "start_time": "2023-01-11T08:52:17.980Z"
   },
   {
    "duration": 23,
    "start_time": "2023-01-11T08:52:17.986Z"
   },
   {
    "duration": 11,
    "start_time": "2023-01-11T08:52:18.011Z"
   },
   {
    "duration": 1177,
    "start_time": "2023-01-11T08:52:18.039Z"
   },
   {
    "duration": 19,
    "start_time": "2023-01-11T08:52:19.218Z"
   },
   {
    "duration": 5,
    "start_time": "2023-01-11T08:52:19.240Z"
   },
   {
    "duration": 31,
    "start_time": "2023-01-11T08:52:19.246Z"
   },
   {
    "duration": 19,
    "start_time": "2023-01-11T08:52:19.279Z"
   },
   {
    "duration": 450,
    "start_time": "2023-01-11T08:52:19.300Z"
   },
   {
    "duration": 10,
    "start_time": "2023-01-11T08:52:19.752Z"
   },
   {
    "duration": 38,
    "start_time": "2023-01-11T08:59:38.680Z"
   },
   {
    "duration": 1475,
    "start_time": "2023-01-11T09:00:06.149Z"
   },
   {
    "duration": 45,
    "start_time": "2023-01-11T09:00:07.626Z"
   },
   {
    "duration": 23,
    "start_time": "2023-01-11T09:00:07.673Z"
   },
   {
    "duration": 16,
    "start_time": "2023-01-11T09:00:07.699Z"
   },
   {
    "duration": 63,
    "start_time": "2023-01-11T09:00:07.735Z"
   },
   {
    "duration": 42,
    "start_time": "2023-01-11T09:00:07.800Z"
   },
   {
    "duration": 7,
    "start_time": "2023-01-11T09:00:07.845Z"
   },
   {
    "duration": 37,
    "start_time": "2023-01-11T09:00:07.854Z"
   },
   {
    "duration": 57,
    "start_time": "2023-01-11T09:00:07.895Z"
   },
   {
    "duration": 45,
    "start_time": "2023-01-11T09:00:07.956Z"
   },
   {
    "duration": 18,
    "start_time": "2023-01-11T09:00:08.004Z"
   },
   {
    "duration": 16,
    "start_time": "2023-01-11T09:00:08.025Z"
   },
   {
    "duration": 53,
    "start_time": "2023-01-11T09:00:08.043Z"
   },
   {
    "duration": 8,
    "start_time": "2023-01-11T09:00:08.098Z"
   },
   {
    "duration": 20,
    "start_time": "2023-01-11T09:00:08.108Z"
   },
   {
    "duration": 7833,
    "start_time": "2023-01-11T09:00:08.136Z"
   },
   {
    "duration": 10,
    "start_time": "2023-01-11T09:00:15.972Z"
   },
   {
    "duration": 207,
    "start_time": "2023-01-11T09:00:15.984Z"
   },
   {
    "duration": 6,
    "start_time": "2023-01-11T09:00:16.193Z"
   },
   {
    "duration": 52,
    "start_time": "2023-01-11T09:00:16.201Z"
   },
   {
    "duration": 998,
    "start_time": "2023-01-11T09:00:16.256Z"
   },
   {
    "duration": 992,
    "start_time": "2023-01-11T09:00:17.338Z"
   },
   {
    "duration": 12,
    "start_time": "2023-01-11T09:00:18.332Z"
   },
   {
    "duration": 102,
    "start_time": "2023-01-11T09:00:18.346Z"
   },
   {
    "duration": 97,
    "start_time": "2023-01-11T09:00:18.450Z"
   },
   {
    "duration": 198,
    "start_time": "2023-01-11T09:00:18.549Z"
   },
   {
    "duration": 5,
    "start_time": "2023-01-11T09:00:18.750Z"
   },
   {
    "duration": 36,
    "start_time": "2023-01-11T09:00:18.761Z"
   },
   {
    "duration": 10,
    "start_time": "2023-01-11T09:00:18.799Z"
   },
   {
    "duration": 1338,
    "start_time": "2023-01-11T09:00:18.811Z"
   },
   {
    "duration": 13,
    "start_time": "2023-01-11T09:00:20.152Z"
   },
   {
    "duration": 9,
    "start_time": "2023-01-11T09:00:20.167Z"
   },
   {
    "duration": 21,
    "start_time": "2023-01-11T09:00:20.178Z"
   },
   {
    "duration": 34,
    "start_time": "2023-01-11T09:00:20.201Z"
   },
   {
    "duration": 457,
    "start_time": "2023-01-11T09:00:20.238Z"
   },
   {
    "duration": 12,
    "start_time": "2023-01-11T09:00:20.698Z"
   },
   {
    "duration": 141,
    "start_time": "2023-01-11T09:00:28.937Z"
   },
   {
    "duration": 1550,
    "start_time": "2023-01-11T09:00:43.268Z"
   },
   {
    "duration": 43,
    "start_time": "2023-01-11T09:00:44.820Z"
   },
   {
    "duration": 20,
    "start_time": "2023-01-11T09:00:44.866Z"
   },
   {
    "duration": 17,
    "start_time": "2023-01-11T09:00:44.889Z"
   },
   {
    "duration": 71,
    "start_time": "2023-01-11T09:00:44.910Z"
   },
   {
    "duration": 13,
    "start_time": "2023-01-11T09:00:44.983Z"
   },
   {
    "duration": 10,
    "start_time": "2023-01-11T09:00:44.998Z"
   },
   {
    "duration": 7,
    "start_time": "2023-01-11T09:00:45.037Z"
   },
   {
    "duration": 59,
    "start_time": "2023-01-11T09:00:45.047Z"
   },
   {
    "duration": 42,
    "start_time": "2023-01-11T09:00:45.108Z"
   },
   {
    "duration": 28,
    "start_time": "2023-01-11T09:00:45.153Z"
   },
   {
    "duration": 25,
    "start_time": "2023-01-11T09:00:45.183Z"
   },
   {
    "duration": 69,
    "start_time": "2023-01-11T09:00:45.211Z"
   },
   {
    "duration": 11,
    "start_time": "2023-01-11T09:00:45.285Z"
   },
   {
    "duration": 36,
    "start_time": "2023-01-11T09:00:45.298Z"
   },
   {
    "duration": 7655,
    "start_time": "2023-01-11T09:00:45.336Z"
   },
   {
    "duration": 8,
    "start_time": "2023-01-11T09:00:52.993Z"
   },
   {
    "duration": 255,
    "start_time": "2023-01-11T09:00:53.004Z"
   },
   {
    "duration": 5,
    "start_time": "2023-01-11T09:00:53.261Z"
   },
   {
    "duration": 45,
    "start_time": "2023-01-11T09:00:53.268Z"
   },
   {
    "duration": 1047,
    "start_time": "2023-01-11T09:00:53.316Z"
   },
   {
    "duration": 1018,
    "start_time": "2023-01-11T09:00:54.365Z"
   },
   {
    "duration": 12,
    "start_time": "2023-01-11T09:00:55.385Z"
   },
   {
    "duration": 97,
    "start_time": "2023-01-11T09:00:55.399Z"
   },
   {
    "duration": 90,
    "start_time": "2023-01-11T09:00:55.497Z"
   },
   {
    "duration": 162,
    "start_time": "2023-01-11T09:00:55.589Z"
   },
   {
    "duration": 5,
    "start_time": "2023-01-11T09:00:55.753Z"
   },
   {
    "duration": 35,
    "start_time": "2023-01-11T09:00:55.760Z"
   },
   {
    "duration": 7,
    "start_time": "2023-01-11T09:00:55.798Z"
   },
   {
    "duration": 1266,
    "start_time": "2023-01-11T09:00:55.806Z"
   },
   {
    "duration": 11,
    "start_time": "2023-01-11T09:00:57.074Z"
   },
   {
    "duration": 29,
    "start_time": "2023-01-11T09:00:57.087Z"
   },
   {
    "duration": 20,
    "start_time": "2023-01-11T09:00:57.118Z"
   },
   {
    "duration": 14,
    "start_time": "2023-01-11T09:00:57.140Z"
   },
   {
    "duration": 563,
    "start_time": "2023-01-11T09:00:57.156Z"
   },
   {
    "duration": 20,
    "start_time": "2023-01-11T09:00:57.720Z"
   },
   {
    "duration": 178,
    "start_time": "2023-01-11T09:02:34.686Z"
   },
   {
    "duration": 1677,
    "start_time": "2023-01-11T09:02:39.056Z"
   },
   {
    "duration": 49,
    "start_time": "2023-01-11T09:02:40.736Z"
   },
   {
    "duration": 27,
    "start_time": "2023-01-11T09:02:40.787Z"
   },
   {
    "duration": 26,
    "start_time": "2023-01-11T09:02:40.816Z"
   },
   {
    "duration": 54,
    "start_time": "2023-01-11T09:02:40.845Z"
   },
   {
    "duration": 42,
    "start_time": "2023-01-11T09:02:40.901Z"
   },
   {
    "duration": 6,
    "start_time": "2023-01-11T09:02:40.945Z"
   },
   {
    "duration": 16,
    "start_time": "2023-01-11T09:02:40.953Z"
   },
   {
    "duration": 35,
    "start_time": "2023-01-11T09:02:40.971Z"
   },
   {
    "duration": 18,
    "start_time": "2023-01-11T09:02:41.035Z"
   },
   {
    "duration": 12,
    "start_time": "2023-01-11T09:02:41.056Z"
   },
   {
    "duration": 8,
    "start_time": "2023-01-11T09:02:41.070Z"
   },
   {
    "duration": 66,
    "start_time": "2023-01-11T09:02:41.080Z"
   },
   {
    "duration": 6,
    "start_time": "2023-01-11T09:02:41.151Z"
   },
   {
    "duration": 16,
    "start_time": "2023-01-11T09:02:41.160Z"
   },
   {
    "duration": 8110,
    "start_time": "2023-01-11T09:02:41.178Z"
   },
   {
    "duration": 12,
    "start_time": "2023-01-11T09:02:49.291Z"
   },
   {
    "duration": 181,
    "start_time": "2023-01-11T09:02:49.305Z"
   },
   {
    "duration": 4,
    "start_time": "2023-01-11T09:02:49.488Z"
   },
   {
    "duration": 68,
    "start_time": "2023-01-11T09:02:49.493Z"
   },
   {
    "duration": 979,
    "start_time": "2023-01-11T09:02:49.566Z"
   },
   {
    "duration": 1042,
    "start_time": "2023-01-11T09:02:50.547Z"
   },
   {
    "duration": 13,
    "start_time": "2023-01-11T09:02:51.591Z"
   },
   {
    "duration": 103,
    "start_time": "2023-01-11T09:02:51.606Z"
   },
   {
    "duration": 89,
    "start_time": "2023-01-11T09:02:51.711Z"
   },
   {
    "duration": 144,
    "start_time": "2023-01-11T09:02:51.802Z"
   },
   {
    "duration": 5,
    "start_time": "2023-01-11T09:02:51.948Z"
   },
   {
    "duration": 27,
    "start_time": "2023-01-11T09:02:51.955Z"
   },
   {
    "duration": 45,
    "start_time": "2023-01-11T09:02:51.984Z"
   },
   {
    "duration": 1368,
    "start_time": "2023-01-11T09:02:52.032Z"
   },
   {
    "duration": 11,
    "start_time": "2023-01-11T09:02:53.402Z"
   },
   {
    "duration": 22,
    "start_time": "2023-01-11T09:02:53.415Z"
   },
   {
    "duration": 22,
    "start_time": "2023-01-11T09:02:53.439Z"
   },
   {
    "duration": 16,
    "start_time": "2023-01-11T09:02:53.463Z"
   },
   {
    "duration": 470,
    "start_time": "2023-01-11T09:02:53.482Z"
   },
   {
    "duration": 11,
    "start_time": "2023-01-11T09:02:53.954Z"
   },
   {
    "duration": 899,
    "start_time": "2023-01-11T09:03:11.064Z"
   },
   {
    "duration": 10,
    "start_time": "2023-01-11T09:03:19.276Z"
   },
   {
    "duration": 1305,
    "start_time": "2023-01-11T09:03:38.577Z"
   },
   {
    "duration": 47,
    "start_time": "2023-01-11T09:03:39.885Z"
   },
   {
    "duration": 24,
    "start_time": "2023-01-11T09:03:39.934Z"
   },
   {
    "duration": 15,
    "start_time": "2023-01-11T09:03:39.961Z"
   },
   {
    "duration": 78,
    "start_time": "2023-01-11T09:03:39.978Z"
   },
   {
    "duration": 15,
    "start_time": "2023-01-11T09:03:40.058Z"
   },
   {
    "duration": 6,
    "start_time": "2023-01-11T09:03:40.074Z"
   },
   {
    "duration": 19,
    "start_time": "2023-01-11T09:03:40.082Z"
   },
   {
    "duration": 37,
    "start_time": "2023-01-11T09:03:40.103Z"
   },
   {
    "duration": 38,
    "start_time": "2023-01-11T09:03:40.144Z"
   },
   {
    "duration": 29,
    "start_time": "2023-01-11T09:03:40.185Z"
   },
   {
    "duration": 5,
    "start_time": "2023-01-11T09:03:40.216Z"
   },
   {
    "duration": 13,
    "start_time": "2023-01-11T09:03:40.222Z"
   },
   {
    "duration": 33,
    "start_time": "2023-01-11T09:03:40.238Z"
   },
   {
    "duration": 6,
    "start_time": "2023-01-11T09:03:40.275Z"
   },
   {
    "duration": 12,
    "start_time": "2023-01-11T09:03:40.283Z"
   },
   {
    "duration": 7148,
    "start_time": "2023-01-11T09:03:40.297Z"
   },
   {
    "duration": 9,
    "start_time": "2023-01-11T09:03:47.447Z"
   },
   {
    "duration": 185,
    "start_time": "2023-01-11T09:03:47.458Z"
   },
   {
    "duration": 5,
    "start_time": "2023-01-11T09:03:47.645Z"
   },
   {
    "duration": 61,
    "start_time": "2023-01-11T09:03:47.651Z"
   },
   {
    "duration": 1124,
    "start_time": "2023-01-11T09:03:47.714Z"
   },
   {
    "duration": 920,
    "start_time": "2023-01-11T09:03:48.840Z"
   },
   {
    "duration": 12,
    "start_time": "2023-01-11T09:03:49.764Z"
   },
   {
    "duration": 95,
    "start_time": "2023-01-11T09:03:49.778Z"
   },
   {
    "duration": 84,
    "start_time": "2023-01-11T09:03:49.876Z"
   },
   {
    "duration": 164,
    "start_time": "2023-01-11T09:03:49.962Z"
   },
   {
    "duration": 8,
    "start_time": "2023-01-11T09:03:50.130Z"
   },
   {
    "duration": 33,
    "start_time": "2023-01-11T09:03:50.141Z"
   },
   {
    "duration": 9,
    "start_time": "2023-01-11T09:03:50.178Z"
   },
   {
    "duration": 1274,
    "start_time": "2023-01-11T09:03:50.189Z"
   },
   {
    "duration": 12,
    "start_time": "2023-01-11T09:03:51.465Z"
   },
   {
    "duration": 35,
    "start_time": "2023-01-11T09:03:51.480Z"
   },
   {
    "duration": 35,
    "start_time": "2023-01-11T09:03:51.518Z"
   },
   {
    "duration": 18,
    "start_time": "2023-01-11T09:03:51.556Z"
   },
   {
    "duration": 470,
    "start_time": "2023-01-11T09:03:51.576Z"
   },
   {
    "duration": 10,
    "start_time": "2023-01-11T09:03:52.048Z"
   },
   {
    "duration": 1521,
    "start_time": "2023-01-11T09:04:29.843Z"
   },
   {
    "duration": 43,
    "start_time": "2023-01-11T09:04:31.366Z"
   },
   {
    "duration": 37,
    "start_time": "2023-01-11T09:04:31.412Z"
   },
   {
    "duration": 14,
    "start_time": "2023-01-11T09:04:31.451Z"
   },
   {
    "duration": 74,
    "start_time": "2023-01-11T09:04:31.468Z"
   },
   {
    "duration": 13,
    "start_time": "2023-01-11T09:04:31.543Z"
   },
   {
    "duration": 15,
    "start_time": "2023-01-11T09:04:31.558Z"
   },
   {
    "duration": 25,
    "start_time": "2023-01-11T09:04:31.574Z"
   },
   {
    "duration": 34,
    "start_time": "2023-01-11T09:04:31.601Z"
   },
   {
    "duration": 40,
    "start_time": "2023-01-11T09:04:31.637Z"
   },
   {
    "duration": 27,
    "start_time": "2023-01-11T09:04:31.679Z"
   },
   {
    "duration": 13,
    "start_time": "2023-01-11T09:04:31.708Z"
   },
   {
    "duration": 18,
    "start_time": "2023-01-11T09:04:31.723Z"
   },
   {
    "duration": 49,
    "start_time": "2023-01-11T09:04:31.745Z"
   },
   {
    "duration": 7,
    "start_time": "2023-01-11T09:04:31.796Z"
   },
   {
    "duration": 22,
    "start_time": "2023-01-11T09:04:31.805Z"
   },
   {
    "duration": 7279,
    "start_time": "2023-01-11T09:04:31.829Z"
   },
   {
    "duration": 9,
    "start_time": "2023-01-11T09:04:39.110Z"
   },
   {
    "duration": 172,
    "start_time": "2023-01-11T09:04:39.136Z"
   },
   {
    "duration": 3,
    "start_time": "2023-01-11T09:04:39.309Z"
   },
   {
    "duration": 40,
    "start_time": "2023-01-11T09:04:39.314Z"
   },
   {
    "duration": 884,
    "start_time": "2023-01-11T09:04:39.356Z"
   },
   {
    "duration": 871,
    "start_time": "2023-01-11T09:04:40.241Z"
   },
   {
    "duration": 8,
    "start_time": "2023-01-11T09:04:41.114Z"
   },
   {
    "duration": 69,
    "start_time": "2023-01-11T09:04:41.135Z"
   },
   {
    "duration": 87,
    "start_time": "2023-01-11T09:04:41.205Z"
   },
   {
    "duration": 126,
    "start_time": "2023-01-11T09:04:41.294Z"
   },
   {
    "duration": 13,
    "start_time": "2023-01-11T09:04:41.422Z"
   },
   {
    "duration": 14,
    "start_time": "2023-01-11T09:04:41.437Z"
   },
   {
    "duration": 6,
    "start_time": "2023-01-11T09:04:41.453Z"
   },
   {
    "duration": 1132,
    "start_time": "2023-01-11T09:04:41.461Z"
   },
   {
    "duration": 13,
    "start_time": "2023-01-11T09:04:42.595Z"
   },
   {
    "duration": 26,
    "start_time": "2023-01-11T09:04:42.610Z"
   },
   {
    "duration": 24,
    "start_time": "2023-01-11T09:04:42.639Z"
   },
   {
    "duration": 13,
    "start_time": "2023-01-11T09:04:42.666Z"
   },
   {
    "duration": 460,
    "start_time": "2023-01-11T09:04:42.682Z"
   },
   {
    "duration": 10,
    "start_time": "2023-01-11T09:04:43.144Z"
   },
   {
    "duration": 23,
    "start_time": "2023-01-11T09:08:54.713Z"
   },
   {
    "duration": 1387,
    "start_time": "2023-01-11T09:09:31.047Z"
   },
   {
    "duration": 64,
    "start_time": "2023-01-11T09:09:32.437Z"
   },
   {
    "duration": 22,
    "start_time": "2023-01-11T09:09:32.504Z"
   },
   {
    "duration": 29,
    "start_time": "2023-01-11T09:09:32.528Z"
   },
   {
    "duration": 56,
    "start_time": "2023-01-11T09:09:32.560Z"
   },
   {
    "duration": 28,
    "start_time": "2023-01-11T09:09:32.618Z"
   },
   {
    "duration": 10,
    "start_time": "2023-01-11T09:09:32.648Z"
   },
   {
    "duration": 34,
    "start_time": "2023-01-11T09:09:32.661Z"
   },
   {
    "duration": 34,
    "start_time": "2023-01-11T09:09:32.698Z"
   },
   {
    "duration": 53,
    "start_time": "2023-01-11T09:09:32.734Z"
   },
   {
    "duration": 27,
    "start_time": "2023-01-11T09:09:32.790Z"
   },
   {
    "duration": 25,
    "start_time": "2023-01-11T09:09:32.819Z"
   },
   {
    "duration": 9,
    "start_time": "2023-01-11T09:09:32.847Z"
   },
   {
    "duration": 33,
    "start_time": "2023-01-11T09:09:32.859Z"
   },
   {
    "duration": 7,
    "start_time": "2023-01-11T09:09:32.894Z"
   },
   {
    "duration": 13,
    "start_time": "2023-01-11T09:09:32.903Z"
   },
   {
    "duration": 7706,
    "start_time": "2023-01-11T09:09:32.917Z"
   },
   {
    "duration": 18,
    "start_time": "2023-01-11T09:09:40.625Z"
   },
   {
    "duration": 166,
    "start_time": "2023-01-11T09:09:40.645Z"
   },
   {
    "duration": 3,
    "start_time": "2023-01-11T09:09:40.813Z"
   },
   {
    "duration": 40,
    "start_time": "2023-01-11T09:09:40.817Z"
   },
   {
    "duration": 877,
    "start_time": "2023-01-11T09:09:40.859Z"
   },
   {
    "duration": 968,
    "start_time": "2023-01-11T09:09:41.738Z"
   },
   {
    "duration": 9,
    "start_time": "2023-01-11T09:09:42.708Z"
   },
   {
    "duration": 79,
    "start_time": "2023-01-11T09:09:42.718Z"
   },
   {
    "duration": 82,
    "start_time": "2023-01-11T09:09:42.799Z"
   },
   {
    "duration": 140,
    "start_time": "2023-01-11T09:09:42.882Z"
   },
   {
    "duration": 5,
    "start_time": "2023-01-11T09:09:43.024Z"
   },
   {
    "duration": 18,
    "start_time": "2023-01-11T09:09:43.035Z"
   },
   {
    "duration": 10,
    "start_time": "2023-01-11T09:09:43.055Z"
   },
   {
    "duration": 1156,
    "start_time": "2023-01-11T09:09:43.067Z"
   },
   {
    "duration": 12,
    "start_time": "2023-01-11T09:09:44.225Z"
   },
   {
    "duration": 6,
    "start_time": "2023-01-11T09:09:44.238Z"
   },
   {
    "duration": 11,
    "start_time": "2023-01-11T09:09:44.246Z"
   },
   {
    "duration": 6,
    "start_time": "2023-01-11T09:09:44.259Z"
   },
   {
    "duration": 444,
    "start_time": "2023-01-11T09:09:44.267Z"
   },
   {
    "duration": 24,
    "start_time": "2023-01-11T09:09:44.713Z"
   },
   {
    "duration": 3,
    "start_time": "2023-01-11T09:13:29.652Z"
   },
   {
    "duration": 1379,
    "start_time": "2023-01-11T09:16:32.534Z"
   },
   {
    "duration": 44,
    "start_time": "2023-01-11T09:16:33.915Z"
   },
   {
    "duration": 17,
    "start_time": "2023-01-11T09:16:33.961Z"
   },
   {
    "duration": 14,
    "start_time": "2023-01-11T09:16:33.981Z"
   },
   {
    "duration": 67,
    "start_time": "2023-01-11T09:16:33.997Z"
   },
   {
    "duration": 11,
    "start_time": "2023-01-11T09:16:34.066Z"
   },
   {
    "duration": 4,
    "start_time": "2023-01-11T09:16:34.079Z"
   },
   {
    "duration": 12,
    "start_time": "2023-01-11T09:16:34.085Z"
   },
   {
    "duration": 11,
    "start_time": "2023-01-11T09:16:34.099Z"
   },
   {
    "duration": 32,
    "start_time": "2023-01-11T09:16:34.113Z"
   },
   {
    "duration": 6,
    "start_time": "2023-01-11T09:16:34.147Z"
   },
   {
    "duration": 11,
    "start_time": "2023-01-11T09:16:34.155Z"
   },
   {
    "duration": 7,
    "start_time": "2023-01-11T09:16:34.167Z"
   },
   {
    "duration": 37,
    "start_time": "2023-01-11T09:16:34.175Z"
   },
   {
    "duration": 22,
    "start_time": "2023-01-11T09:16:34.213Z"
   },
   {
    "duration": 9,
    "start_time": "2023-01-11T09:16:34.237Z"
   },
   {
    "duration": 8823,
    "start_time": "2023-01-11T09:16:34.248Z"
   },
   {
    "duration": 7,
    "start_time": "2023-01-11T09:16:43.072Z"
   },
   {
    "duration": 170,
    "start_time": "2023-01-11T09:16:43.080Z"
   },
   {
    "duration": 4,
    "start_time": "2023-01-11T09:16:43.251Z"
   },
   {
    "duration": 36,
    "start_time": "2023-01-11T09:16:43.257Z"
   },
   {
    "duration": 1045,
    "start_time": "2023-01-11T09:16:43.296Z"
   },
   {
    "duration": 988,
    "start_time": "2023-01-11T09:16:44.434Z"
   },
   {
    "duration": 20,
    "start_time": "2023-01-11T09:16:45.424Z"
   },
   {
    "duration": 67,
    "start_time": "2023-01-11T09:16:45.446Z"
   },
   {
    "duration": 78,
    "start_time": "2023-01-11T09:16:45.515Z"
   },
   {
    "duration": 132,
    "start_time": "2023-01-11T09:16:45.595Z"
   },
   {
    "duration": 5,
    "start_time": "2023-01-11T09:16:45.734Z"
   },
   {
    "duration": 21,
    "start_time": "2023-01-11T09:16:45.741Z"
   },
   {
    "duration": 6,
    "start_time": "2023-01-11T09:16:45.764Z"
   },
   {
    "duration": 1313,
    "start_time": "2023-01-11T09:16:45.772Z"
   },
   {
    "duration": 13,
    "start_time": "2023-01-11T09:16:47.087Z"
   },
   {
    "duration": 4,
    "start_time": "2023-01-11T09:16:47.102Z"
   },
   {
    "duration": 32,
    "start_time": "2023-01-11T09:16:47.108Z"
   },
   {
    "duration": 7,
    "start_time": "2023-01-11T09:16:47.142Z"
   },
   {
    "duration": 474,
    "start_time": "2023-01-11T09:16:47.151Z"
   },
   {
    "duration": 18,
    "start_time": "2023-01-11T09:16:47.626Z"
   },
   {
    "duration": 22,
    "start_time": "2023-01-11T09:17:40.266Z"
   },
   {
    "duration": 1409,
    "start_time": "2023-01-11T09:19:39.780Z"
   },
   {
    "duration": 40,
    "start_time": "2023-01-11T09:19:41.191Z"
   },
   {
    "duration": 22,
    "start_time": "2023-01-11T09:19:41.239Z"
   },
   {
    "duration": 14,
    "start_time": "2023-01-11T09:19:41.263Z"
   },
   {
    "duration": 74,
    "start_time": "2023-01-11T09:19:41.279Z"
   },
   {
    "duration": 11,
    "start_time": "2023-01-11T09:19:41.355Z"
   },
   {
    "duration": 4,
    "start_time": "2023-01-11T09:19:41.368Z"
   },
   {
    "duration": 17,
    "start_time": "2023-01-11T09:19:41.374Z"
   },
   {
    "duration": 19,
    "start_time": "2023-01-11T09:19:41.393Z"
   },
   {
    "duration": 22,
    "start_time": "2023-01-11T09:19:41.414Z"
   },
   {
    "duration": 8,
    "start_time": "2023-01-11T09:19:41.437Z"
   },
   {
    "duration": 11,
    "start_time": "2023-01-11T09:19:41.447Z"
   },
   {
    "duration": 22,
    "start_time": "2023-01-11T09:19:41.460Z"
   },
   {
    "duration": 29,
    "start_time": "2023-01-11T09:19:41.484Z"
   },
   {
    "duration": 25,
    "start_time": "2023-01-11T09:19:41.515Z"
   },
   {
    "duration": 4,
    "start_time": "2023-01-11T09:19:41.542Z"
   },
   {
    "duration": 14,
    "start_time": "2023-01-11T09:19:41.547Z"
   },
   {
    "duration": 8539,
    "start_time": "2023-01-11T09:19:41.563Z"
   },
   {
    "duration": 9,
    "start_time": "2023-01-11T09:19:50.105Z"
   },
   {
    "duration": 187,
    "start_time": "2023-01-11T09:19:50.116Z"
   },
   {
    "duration": 3,
    "start_time": "2023-01-11T09:19:50.305Z"
   },
   {
    "duration": 73,
    "start_time": "2023-01-11T09:19:50.310Z"
   },
   {
    "duration": 1160,
    "start_time": "2023-01-11T09:19:50.387Z"
   },
   {
    "duration": 1046,
    "start_time": "2023-01-11T09:19:51.551Z"
   },
   {
    "duration": 15,
    "start_time": "2023-01-11T09:19:52.600Z"
   },
   {
    "duration": 121,
    "start_time": "2023-01-11T09:19:52.634Z"
   },
   {
    "duration": 79,
    "start_time": "2023-01-11T09:19:52.757Z"
   },
   {
    "duration": 136,
    "start_time": "2023-01-11T09:19:52.838Z"
   },
   {
    "duration": 5,
    "start_time": "2023-01-11T09:19:52.976Z"
   },
   {
    "duration": 46,
    "start_time": "2023-01-11T09:19:52.983Z"
   },
   {
    "duration": 36,
    "start_time": "2023-01-11T09:19:53.031Z"
   },
   {
    "duration": 1383,
    "start_time": "2023-01-11T09:19:53.069Z"
   },
   {
    "duration": 11,
    "start_time": "2023-01-11T09:19:54.454Z"
   },
   {
    "duration": 28,
    "start_time": "2023-01-11T09:19:54.467Z"
   },
   {
    "duration": 26,
    "start_time": "2023-01-11T09:19:54.496Z"
   },
   {
    "duration": 19,
    "start_time": "2023-01-11T09:19:54.524Z"
   },
   {
    "duration": 477,
    "start_time": "2023-01-11T09:19:54.544Z"
   },
   {
    "duration": 20,
    "start_time": "2023-01-11T09:19:55.022Z"
   },
   {
    "duration": 1553,
    "start_time": "2023-01-18T01:04:03.984Z"
   },
   {
    "duration": 80,
    "start_time": "2023-01-18T01:04:05.540Z"
   },
   {
    "duration": 21,
    "start_time": "2023-01-18T01:04:05.621Z"
   },
   {
    "duration": 31,
    "start_time": "2023-01-18T01:04:05.644Z"
   },
   {
    "duration": 50,
    "start_time": "2023-01-18T01:04:05.677Z"
   },
   {
    "duration": 11,
    "start_time": "2023-01-18T01:04:05.729Z"
   },
   {
    "duration": 13,
    "start_time": "2023-01-18T01:04:05.741Z"
   },
   {
    "duration": 30,
    "start_time": "2023-01-18T01:04:05.755Z"
   },
   {
    "duration": 24,
    "start_time": "2023-01-18T01:04:05.787Z"
   },
   {
    "duration": 38,
    "start_time": "2023-01-18T01:04:05.814Z"
   },
   {
    "duration": 64,
    "start_time": "2023-01-18T01:04:05.853Z"
   },
   {
    "duration": 16,
    "start_time": "2023-01-18T01:04:05.918Z"
   },
   {
    "duration": 8,
    "start_time": "2023-01-18T01:04:05.935Z"
   },
   {
    "duration": 29,
    "start_time": "2023-01-18T01:04:05.944Z"
   },
   {
    "duration": 21,
    "start_time": "2023-01-18T01:04:05.975Z"
   },
   {
    "duration": 7,
    "start_time": "2023-01-18T01:04:05.997Z"
   },
   {
    "duration": 12,
    "start_time": "2023-01-18T01:04:06.006Z"
   },
   {
    "duration": 8141,
    "start_time": "2023-01-18T01:04:06.020Z"
   },
   {
    "duration": 8,
    "start_time": "2023-01-18T01:04:14.162Z"
   },
   {
    "duration": 146,
    "start_time": "2023-01-18T01:04:14.171Z"
   },
   {
    "duration": 3,
    "start_time": "2023-01-18T01:04:14.319Z"
   },
   {
    "duration": 6,
    "start_time": "2023-01-18T01:04:14.324Z"
   },
   {
    "duration": 1004,
    "start_time": "2023-01-18T01:04:14.332Z"
   },
   {
    "duration": 1026,
    "start_time": "2023-01-18T01:04:15.338Z"
   },
   {
    "duration": 10,
    "start_time": "2023-01-18T01:04:16.366Z"
   },
   {
    "duration": 71,
    "start_time": "2023-01-18T01:04:16.378Z"
   },
   {
    "duration": 74,
    "start_time": "2023-01-18T01:04:16.451Z"
   },
   {
    "duration": 120,
    "start_time": "2023-01-18T01:04:16.528Z"
   },
   {
    "duration": 4,
    "start_time": "2023-01-18T01:04:16.649Z"
   },
   {
    "duration": 12,
    "start_time": "2023-01-18T01:04:16.654Z"
   },
   {
    "duration": 6,
    "start_time": "2023-01-18T01:04:16.667Z"
   },
   {
    "duration": 1223,
    "start_time": "2023-01-18T01:04:16.674Z"
   },
   {
    "duration": 15,
    "start_time": "2023-01-18T01:04:17.899Z"
   },
   {
    "duration": 4,
    "start_time": "2023-01-18T01:04:17.915Z"
   },
   {
    "duration": 11,
    "start_time": "2023-01-18T01:04:17.921Z"
   },
   {
    "duration": 5,
    "start_time": "2023-01-18T01:04:17.934Z"
   },
   {
    "duration": 440,
    "start_time": "2023-01-18T01:04:17.941Z"
   },
   {
    "duration": 12,
    "start_time": "2023-01-18T01:04:18.383Z"
   },
   {
    "duration": 25,
    "start_time": "2023-01-18T01:10:46.421Z"
   },
   {
    "duration": 1339,
    "start_time": "2023-01-18T01:15:27.103Z"
   },
   {
    "duration": 37,
    "start_time": "2023-01-18T01:15:28.444Z"
   },
   {
    "duration": 16,
    "start_time": "2023-01-18T01:15:28.482Z"
   },
   {
    "duration": 12,
    "start_time": "2023-01-18T01:15:28.500Z"
   },
   {
    "duration": 39,
    "start_time": "2023-01-18T01:15:28.514Z"
   },
   {
    "duration": 11,
    "start_time": "2023-01-18T01:15:28.555Z"
   },
   {
    "duration": 8,
    "start_time": "2023-01-18T01:15:28.567Z"
   },
   {
    "duration": 5,
    "start_time": "2023-01-18T01:15:28.577Z"
   },
   {
    "duration": 29,
    "start_time": "2023-01-18T01:15:28.584Z"
   },
   {
    "duration": 40,
    "start_time": "2023-01-18T01:15:28.615Z"
   },
   {
    "duration": 5,
    "start_time": "2023-01-18T01:15:28.657Z"
   },
   {
    "duration": 10,
    "start_time": "2023-01-18T01:15:28.663Z"
   },
   {
    "duration": 7,
    "start_time": "2023-01-18T01:15:28.674Z"
   },
   {
    "duration": 17,
    "start_time": "2023-01-18T01:15:28.684Z"
   },
   {
    "duration": 26,
    "start_time": "2023-01-18T01:15:28.703Z"
   },
   {
    "duration": 9,
    "start_time": "2023-01-18T01:15:28.730Z"
   },
   {
    "duration": 15,
    "start_time": "2023-01-18T01:15:28.740Z"
   },
   {
    "duration": 8186,
    "start_time": "2023-01-18T01:15:28.757Z"
   },
   {
    "duration": 9,
    "start_time": "2023-01-18T01:15:36.945Z"
   },
   {
    "duration": 153,
    "start_time": "2023-01-18T01:15:36.955Z"
   },
   {
    "duration": 4,
    "start_time": "2023-01-18T01:15:37.110Z"
   },
   {
    "duration": 47,
    "start_time": "2023-01-18T01:15:37.116Z"
   },
   {
    "duration": 1014,
    "start_time": "2023-01-18T01:15:37.164Z"
   },
   {
    "duration": 1000,
    "start_time": "2023-01-18T01:15:38.227Z"
   },
   {
    "duration": 9,
    "start_time": "2023-01-18T01:15:39.229Z"
   },
   {
    "duration": 62,
    "start_time": "2023-01-18T01:15:39.240Z"
   },
   {
    "duration": 70,
    "start_time": "2023-01-18T01:15:39.304Z"
   },
   {
    "duration": 126,
    "start_time": "2023-01-18T01:15:39.375Z"
   },
   {
    "duration": 11,
    "start_time": "2023-01-18T01:15:39.502Z"
   },
   {
    "duration": 28,
    "start_time": "2023-01-18T01:15:39.516Z"
   },
   {
    "duration": 5,
    "start_time": "2023-01-18T01:15:39.546Z"
   },
   {
    "duration": 1236,
    "start_time": "2023-01-18T01:15:39.553Z"
   },
   {
    "duration": 8,
    "start_time": "2023-01-18T01:15:40.790Z"
   },
   {
    "duration": 6,
    "start_time": "2023-01-18T01:15:40.799Z"
   },
   {
    "duration": 27,
    "start_time": "2023-01-18T01:15:40.813Z"
   },
   {
    "duration": 5,
    "start_time": "2023-01-18T01:15:40.842Z"
   },
   {
    "duration": 451,
    "start_time": "2023-01-18T01:15:40.849Z"
   },
   {
    "duration": 15,
    "start_time": "2023-01-18T01:15:41.302Z"
   },
   {
    "duration": 1402,
    "start_time": "2023-01-18T01:20:00.014Z"
   },
   {
    "duration": 36,
    "start_time": "2023-01-18T01:20:01.418Z"
   },
   {
    "duration": 17,
    "start_time": "2023-01-18T01:20:01.455Z"
   },
   {
    "duration": 25,
    "start_time": "2023-01-18T01:20:01.474Z"
   },
   {
    "duration": 78,
    "start_time": "2023-01-18T01:20:01.501Z"
   },
   {
    "duration": 11,
    "start_time": "2023-01-18T01:20:01.580Z"
   },
   {
    "duration": 48,
    "start_time": "2023-01-18T01:20:01.592Z"
   },
   {
    "duration": 94,
    "start_time": "2023-01-18T01:20:01.642Z"
   },
   {
    "duration": 46,
    "start_time": "2023-01-18T01:20:01.738Z"
   },
   {
    "duration": 65,
    "start_time": "2023-01-18T01:20:01.786Z"
   },
   {
    "duration": 101,
    "start_time": "2023-01-18T01:20:01.853Z"
   },
   {
    "duration": 59,
    "start_time": "2023-01-18T01:20:01.955Z"
   },
   {
    "duration": 22,
    "start_time": "2023-01-18T01:20:02.016Z"
   },
   {
    "duration": 41,
    "start_time": "2023-01-18T01:20:02.040Z"
   },
   {
    "duration": 31,
    "start_time": "2023-01-18T01:20:02.082Z"
   },
   {
    "duration": 47,
    "start_time": "2023-01-18T01:20:02.115Z"
   },
   {
    "duration": 40,
    "start_time": "2023-01-18T01:20:02.164Z"
   },
   {
    "duration": 7173,
    "start_time": "2023-01-18T01:20:02.206Z"
   },
   {
    "duration": 7,
    "start_time": "2023-01-18T01:20:09.381Z"
   },
   {
    "duration": 153,
    "start_time": "2023-01-18T01:20:09.389Z"
   },
   {
    "duration": 3,
    "start_time": "2023-01-18T01:20:09.543Z"
   },
   {
    "duration": 22,
    "start_time": "2023-01-18T01:20:09.547Z"
   },
   {
    "duration": 843,
    "start_time": "2023-01-18T01:20:09.571Z"
   },
   {
    "duration": 878,
    "start_time": "2023-01-18T01:20:10.416Z"
   },
   {
    "duration": 17,
    "start_time": "2023-01-18T01:20:11.296Z"
   },
   {
    "duration": 87,
    "start_time": "2023-01-18T01:20:11.315Z"
   },
   {
    "duration": 95,
    "start_time": "2023-01-18T01:20:11.404Z"
   },
   {
    "duration": 128,
    "start_time": "2023-01-18T01:20:11.501Z"
   },
   {
    "duration": 4,
    "start_time": "2023-01-18T01:20:11.630Z"
   },
   {
    "duration": 19,
    "start_time": "2023-01-18T01:20:11.636Z"
   },
   {
    "duration": 6,
    "start_time": "2023-01-18T01:20:11.656Z"
   },
   {
    "duration": 972,
    "start_time": "2023-01-18T01:20:11.663Z"
   },
   {
    "duration": 10,
    "start_time": "2023-01-18T01:20:12.637Z"
   },
   {
    "duration": 4,
    "start_time": "2023-01-18T01:20:12.648Z"
   },
   {
    "duration": 23,
    "start_time": "2023-01-18T01:20:12.653Z"
   },
   {
    "duration": 6,
    "start_time": "2023-01-18T01:20:12.678Z"
   },
   {
    "duration": 402,
    "start_time": "2023-01-18T01:20:12.685Z"
   },
   {
    "duration": 11,
    "start_time": "2023-01-18T01:20:13.089Z"
   },
   {
    "duration": 1280,
    "start_time": "2023-01-18T01:21:03.068Z"
   },
   {
    "duration": 37,
    "start_time": "2023-01-18T01:21:04.350Z"
   },
   {
    "duration": 18,
    "start_time": "2023-01-18T01:21:04.389Z"
   },
   {
    "duration": 14,
    "start_time": "2023-01-18T01:21:04.408Z"
   },
   {
    "duration": 41,
    "start_time": "2023-01-18T01:21:04.424Z"
   },
   {
    "duration": 10,
    "start_time": "2023-01-18T01:21:04.467Z"
   },
   {
    "duration": 12,
    "start_time": "2023-01-18T01:21:04.479Z"
   },
   {
    "duration": 21,
    "start_time": "2023-01-18T01:21:04.492Z"
   },
   {
    "duration": 7,
    "start_time": "2023-01-18T01:21:04.515Z"
   },
   {
    "duration": 21,
    "start_time": "2023-01-18T01:21:04.523Z"
   },
   {
    "duration": 29,
    "start_time": "2023-01-18T01:21:04.546Z"
   },
   {
    "duration": 8,
    "start_time": "2023-01-18T01:21:04.577Z"
   },
   {
    "duration": 8,
    "start_time": "2023-01-18T01:21:04.587Z"
   },
   {
    "duration": 22,
    "start_time": "2023-01-18T01:21:04.599Z"
   },
   {
    "duration": 22,
    "start_time": "2023-01-18T01:21:04.624Z"
   },
   {
    "duration": 23,
    "start_time": "2023-01-18T01:21:04.648Z"
   },
   {
    "duration": 30,
    "start_time": "2023-01-18T01:21:04.674Z"
   },
   {
    "duration": 6958,
    "start_time": "2023-01-18T01:21:04.706Z"
   },
   {
    "duration": 7,
    "start_time": "2023-01-18T01:21:11.666Z"
   },
   {
    "duration": 152,
    "start_time": "2023-01-18T01:21:11.674Z"
   },
   {
    "duration": 3,
    "start_time": "2023-01-18T01:21:11.827Z"
   },
   {
    "duration": 7,
    "start_time": "2023-01-18T01:21:11.832Z"
   },
   {
    "duration": 778,
    "start_time": "2023-01-18T01:21:11.840Z"
   },
   {
    "duration": 834,
    "start_time": "2023-01-18T01:21:12.619Z"
   },
   {
    "duration": 10,
    "start_time": "2023-01-18T01:21:13.455Z"
   },
   {
    "duration": 67,
    "start_time": "2023-01-18T01:21:13.466Z"
   },
   {
    "duration": 51,
    "start_time": "2023-01-18T01:21:13.535Z"
   },
   {
    "duration": 126,
    "start_time": "2023-01-18T01:21:13.588Z"
   },
   {
    "duration": 4,
    "start_time": "2023-01-18T01:21:13.716Z"
   },
   {
    "duration": 17,
    "start_time": "2023-01-18T01:21:13.721Z"
   },
   {
    "duration": 7,
    "start_time": "2023-01-18T01:21:13.740Z"
   },
   {
    "duration": 976,
    "start_time": "2023-01-18T01:21:13.748Z"
   },
   {
    "duration": 9,
    "start_time": "2023-01-18T01:21:14.726Z"
   },
   {
    "duration": 5,
    "start_time": "2023-01-18T01:21:14.737Z"
   },
   {
    "duration": 16,
    "start_time": "2023-01-18T01:21:14.744Z"
   },
   {
    "duration": 6,
    "start_time": "2023-01-18T01:21:14.761Z"
   },
   {
    "duration": 386,
    "start_time": "2023-01-18T01:21:14.769Z"
   },
   {
    "duration": 8,
    "start_time": "2023-01-18T01:21:15.157Z"
   },
   {
    "duration": 1310,
    "start_time": "2023-01-18T01:25:25.545Z"
   },
   {
    "duration": 37,
    "start_time": "2023-01-18T01:25:26.857Z"
   },
   {
    "duration": 17,
    "start_time": "2023-01-18T01:25:26.896Z"
   },
   {
    "duration": 20,
    "start_time": "2023-01-18T01:25:26.916Z"
   },
   {
    "duration": 50,
    "start_time": "2023-01-18T01:25:26.938Z"
   },
   {
    "duration": 28,
    "start_time": "2023-01-18T01:25:26.990Z"
   },
   {
    "duration": 5,
    "start_time": "2023-01-18T01:25:27.019Z"
   },
   {
    "duration": 9,
    "start_time": "2023-01-18T01:25:27.025Z"
   },
   {
    "duration": 6,
    "start_time": "2023-01-18T01:25:27.036Z"
   },
   {
    "duration": 13,
    "start_time": "2023-01-18T01:25:27.044Z"
   },
   {
    "duration": 10,
    "start_time": "2023-01-18T01:25:27.059Z"
   },
   {
    "duration": 6,
    "start_time": "2023-01-18T01:25:27.071Z"
   },
   {
    "duration": 7,
    "start_time": "2023-01-18T01:25:27.079Z"
   },
   {
    "duration": 28,
    "start_time": "2023-01-18T01:25:27.087Z"
   },
   {
    "duration": 18,
    "start_time": "2023-01-18T01:25:27.117Z"
   },
   {
    "duration": 10,
    "start_time": "2023-01-18T01:25:27.137Z"
   },
   {
    "duration": 17,
    "start_time": "2023-01-18T01:25:27.149Z"
   },
   {
    "duration": 6832,
    "start_time": "2023-01-18T01:25:27.168Z"
   },
   {
    "duration": 12,
    "start_time": "2023-01-18T01:25:34.001Z"
   },
   {
    "duration": 141,
    "start_time": "2023-01-18T01:25:34.014Z"
   },
   {
    "duration": 3,
    "start_time": "2023-01-18T01:25:34.156Z"
   },
   {
    "duration": 7,
    "start_time": "2023-01-18T01:25:34.161Z"
   },
   {
    "duration": 845,
    "start_time": "2023-01-18T01:25:34.170Z"
   },
   {
    "duration": 797,
    "start_time": "2023-01-18T01:25:35.017Z"
   },
   {
    "duration": 7,
    "start_time": "2023-01-18T01:25:35.816Z"
   },
   {
    "duration": 49,
    "start_time": "2023-01-18T01:25:35.824Z"
   },
   {
    "duration": 65,
    "start_time": "2023-01-18T01:25:35.874Z"
   },
   {
    "duration": 121,
    "start_time": "2023-01-18T01:25:35.942Z"
   },
   {
    "duration": 4,
    "start_time": "2023-01-18T01:25:36.064Z"
   },
   {
    "duration": 14,
    "start_time": "2023-01-18T01:25:36.069Z"
   },
   {
    "duration": 4,
    "start_time": "2023-01-18T01:25:36.085Z"
   },
   {
    "duration": 959,
    "start_time": "2023-01-18T01:25:36.091Z"
   },
   {
    "duration": 7,
    "start_time": "2023-01-18T01:25:37.052Z"
   },
   {
    "duration": 7,
    "start_time": "2023-01-18T01:25:37.061Z"
   },
   {
    "duration": 16,
    "start_time": "2023-01-18T01:25:37.070Z"
   },
   {
    "duration": 6,
    "start_time": "2023-01-18T01:25:37.087Z"
   },
   {
    "duration": 378,
    "start_time": "2023-01-18T01:25:37.094Z"
   },
   {
    "duration": 8,
    "start_time": "2023-01-18T01:25:37.474Z"
   },
   {
    "duration": 1286,
    "start_time": "2023-01-18T01:26:15.663Z"
   },
   {
    "duration": 37,
    "start_time": "2023-01-18T01:26:16.951Z"
   },
   {
    "duration": 16,
    "start_time": "2023-01-18T01:26:16.990Z"
   },
   {
    "duration": 12,
    "start_time": "2023-01-18T01:26:17.007Z"
   },
   {
    "duration": 39,
    "start_time": "2023-01-18T01:26:17.022Z"
   },
   {
    "duration": 12,
    "start_time": "2023-01-18T01:26:17.064Z"
   },
   {
    "duration": 5,
    "start_time": "2023-01-18T01:26:17.077Z"
   },
   {
    "duration": 30,
    "start_time": "2023-01-18T01:26:17.084Z"
   },
   {
    "duration": 6,
    "start_time": "2023-01-18T01:26:17.116Z"
   },
   {
    "duration": 14,
    "start_time": "2023-01-18T01:26:17.124Z"
   },
   {
    "duration": 5,
    "start_time": "2023-01-18T01:26:17.139Z"
   },
   {
    "duration": 8,
    "start_time": "2023-01-18T01:26:17.145Z"
   },
   {
    "duration": 8,
    "start_time": "2023-01-18T01:26:17.154Z"
   },
   {
    "duration": 17,
    "start_time": "2023-01-18T01:26:17.165Z"
   },
   {
    "duration": 43,
    "start_time": "2023-01-18T01:26:17.183Z"
   },
   {
    "duration": 7,
    "start_time": "2023-01-18T01:26:17.227Z"
   },
   {
    "duration": 11,
    "start_time": "2023-01-18T01:26:17.236Z"
   },
   {
    "duration": 6889,
    "start_time": "2023-01-18T01:26:17.248Z"
   },
   {
    "duration": 7,
    "start_time": "2023-01-18T01:26:24.139Z"
   },
   {
    "duration": 150,
    "start_time": "2023-01-18T01:26:24.148Z"
   },
   {
    "duration": 4,
    "start_time": "2023-01-18T01:26:24.299Z"
   },
   {
    "duration": 15,
    "start_time": "2023-01-18T01:26:24.304Z"
   },
   {
    "duration": 795,
    "start_time": "2023-01-18T01:26:24.320Z"
   },
   {
    "duration": 882,
    "start_time": "2023-01-18T01:26:25.116Z"
   },
   {
    "duration": 16,
    "start_time": "2023-01-18T01:26:25.999Z"
   },
   {
    "duration": 55,
    "start_time": "2023-01-18T01:26:26.016Z"
   },
   {
    "duration": 63,
    "start_time": "2023-01-18T01:26:26.073Z"
   },
   {
    "duration": 124,
    "start_time": "2023-01-18T01:26:26.138Z"
   },
   {
    "duration": 4,
    "start_time": "2023-01-18T01:26:26.265Z"
   },
   {
    "duration": 21,
    "start_time": "2023-01-18T01:26:26.270Z"
   },
   {
    "duration": 7,
    "start_time": "2023-01-18T01:26:26.292Z"
   },
   {
    "duration": 966,
    "start_time": "2023-01-18T01:26:26.300Z"
   },
   {
    "duration": 9,
    "start_time": "2023-01-18T01:26:27.267Z"
   },
   {
    "duration": 4,
    "start_time": "2023-01-18T01:26:27.277Z"
   },
   {
    "duration": 16,
    "start_time": "2023-01-18T01:26:27.282Z"
   },
   {
    "duration": 17,
    "start_time": "2023-01-18T01:26:27.299Z"
   },
   {
    "duration": 373,
    "start_time": "2023-01-18T01:26:27.318Z"
   },
   {
    "duration": 8,
    "start_time": "2023-01-18T01:26:27.693Z"
   },
   {
    "duration": 1422,
    "start_time": "2023-01-18T01:28:36.414Z"
   },
   {
    "duration": 37,
    "start_time": "2023-01-18T01:28:37.838Z"
   },
   {
    "duration": 18,
    "start_time": "2023-01-18T01:28:37.876Z"
   },
   {
    "duration": 28,
    "start_time": "2023-01-18T01:28:37.896Z"
   },
   {
    "duration": 41,
    "start_time": "2023-01-18T01:28:37.927Z"
   },
   {
    "duration": 10,
    "start_time": "2023-01-18T01:28:37.970Z"
   },
   {
    "duration": 8,
    "start_time": "2023-01-18T01:28:37.981Z"
   },
   {
    "duration": 25,
    "start_time": "2023-01-18T01:28:37.990Z"
   },
   {
    "duration": 12,
    "start_time": "2023-01-18T01:28:38.017Z"
   },
   {
    "duration": 20,
    "start_time": "2023-01-18T01:28:38.030Z"
   },
   {
    "duration": 5,
    "start_time": "2023-01-18T01:28:38.052Z"
   },
   {
    "duration": 9,
    "start_time": "2023-01-18T01:28:38.058Z"
   },
   {
    "duration": 6,
    "start_time": "2023-01-18T01:28:38.068Z"
   },
   {
    "duration": 22,
    "start_time": "2023-01-18T01:28:38.077Z"
   },
   {
    "duration": 29,
    "start_time": "2023-01-18T01:28:38.101Z"
   },
   {
    "duration": 12,
    "start_time": "2023-01-18T01:28:38.132Z"
   },
   {
    "duration": 24,
    "start_time": "2023-01-18T01:28:38.146Z"
   },
   {
    "duration": 6975,
    "start_time": "2023-01-18T01:28:38.172Z"
   },
   {
    "duration": 8,
    "start_time": "2023-01-18T01:28:45.149Z"
   },
   {
    "duration": 145,
    "start_time": "2023-01-18T01:28:45.158Z"
   },
   {
    "duration": 9,
    "start_time": "2023-01-18T01:28:45.304Z"
   },
   {
    "duration": 15,
    "start_time": "2023-01-18T01:28:45.314Z"
   },
   {
    "duration": 784,
    "start_time": "2023-01-18T01:28:45.331Z"
   },
   {
    "duration": 795,
    "start_time": "2023-01-18T01:28:46.117Z"
   },
   {
    "duration": 40,
    "start_time": "2023-01-18T01:28:46.914Z"
   },
   {
    "duration": 8,
    "start_time": "2023-01-18T01:28:46.956Z"
   },
   {
    "duration": 72,
    "start_time": "2023-01-18T01:28:46.965Z"
   },
   {
    "duration": 54,
    "start_time": "2023-01-18T01:28:47.039Z"
   },
   {
    "duration": 126,
    "start_time": "2023-01-18T01:28:47.094Z"
   },
   {
    "duration": 3,
    "start_time": "2023-01-18T01:28:47.222Z"
   },
   {
    "duration": 39,
    "start_time": "2023-01-18T01:28:47.227Z"
   },
   {
    "duration": 6,
    "start_time": "2023-01-18T01:28:47.267Z"
   },
   {
    "duration": 943,
    "start_time": "2023-01-18T01:28:47.274Z"
   },
   {
    "duration": 9,
    "start_time": "2023-01-18T01:28:48.219Z"
   },
   {
    "duration": 7,
    "start_time": "2023-01-18T01:28:48.229Z"
   },
   {
    "duration": 14,
    "start_time": "2023-01-18T01:28:48.238Z"
   },
   {
    "duration": 8,
    "start_time": "2023-01-18T01:28:48.254Z"
   },
   {
    "duration": 376,
    "start_time": "2023-01-18T01:28:48.263Z"
   },
   {
    "duration": 9,
    "start_time": "2023-01-18T01:28:48.640Z"
   },
   {
    "duration": 9,
    "start_time": "2023-01-18T01:29:17.894Z"
   },
   {
    "duration": 1479,
    "start_time": "2023-01-18T01:31:30.000Z"
   },
   {
    "duration": 37,
    "start_time": "2023-01-18T01:31:31.481Z"
   },
   {
    "duration": 17,
    "start_time": "2023-01-18T01:31:31.520Z"
   },
   {
    "duration": 19,
    "start_time": "2023-01-18T01:31:31.539Z"
   },
   {
    "duration": 41,
    "start_time": "2023-01-18T01:31:31.559Z"
   },
   {
    "duration": 14,
    "start_time": "2023-01-18T01:31:31.602Z"
   },
   {
    "duration": 5,
    "start_time": "2023-01-18T01:31:31.618Z"
   },
   {
    "duration": 12,
    "start_time": "2023-01-18T01:31:31.624Z"
   },
   {
    "duration": 13,
    "start_time": "2023-01-18T01:31:31.637Z"
   },
   {
    "duration": 29,
    "start_time": "2023-01-18T01:31:31.653Z"
   },
   {
    "duration": 14,
    "start_time": "2023-01-18T01:31:31.684Z"
   },
   {
    "duration": 7,
    "start_time": "2023-01-18T01:31:31.700Z"
   },
   {
    "duration": 15,
    "start_time": "2023-01-18T01:31:31.708Z"
   },
   {
    "duration": 21,
    "start_time": "2023-01-18T01:31:31.725Z"
   },
   {
    "duration": 25,
    "start_time": "2023-01-18T01:31:31.748Z"
   },
   {
    "duration": 34,
    "start_time": "2023-01-18T01:31:31.774Z"
   },
   {
    "duration": 20,
    "start_time": "2023-01-18T01:31:31.810Z"
   },
   {
    "duration": 6822,
    "start_time": "2023-01-18T01:31:31.832Z"
   },
   {
    "duration": 8,
    "start_time": "2023-01-18T01:31:38.655Z"
   },
   {
    "duration": 142,
    "start_time": "2023-01-18T01:31:38.664Z"
   },
   {
    "duration": 4,
    "start_time": "2023-01-18T01:31:38.813Z"
   },
   {
    "duration": 11,
    "start_time": "2023-01-18T01:31:38.818Z"
   },
   {
    "duration": 787,
    "start_time": "2023-01-18T01:31:38.830Z"
   },
   {
    "duration": 262,
    "start_time": "2023-01-18T01:31:39.619Z"
   },
   {
    "duration": 8,
    "start_time": "2023-01-18T01:31:39.883Z"
   },
   {
    "duration": 26,
    "start_time": "2023-01-18T01:31:39.892Z"
   },
   {
    "duration": 12,
    "start_time": "2023-01-18T01:31:39.920Z"
   },
   {
    "duration": 123,
    "start_time": "2023-01-18T01:31:39.935Z"
   },
   {
    "duration": 4,
    "start_time": "2023-01-18T01:31:40.060Z"
   },
   {
    "duration": 19,
    "start_time": "2023-01-18T01:31:40.065Z"
   },
   {
    "duration": 12,
    "start_time": "2023-01-18T01:31:40.086Z"
   },
   {
    "duration": 972,
    "start_time": "2023-01-18T01:31:40.099Z"
   },
   {
    "duration": 8,
    "start_time": "2023-01-18T01:31:41.073Z"
   },
   {
    "duration": 4,
    "start_time": "2023-01-18T01:31:41.082Z"
   },
   {
    "duration": 25,
    "start_time": "2023-01-18T01:31:41.088Z"
   },
   {
    "duration": 6,
    "start_time": "2023-01-18T01:31:41.115Z"
   },
   {
    "duration": 369,
    "start_time": "2023-01-18T01:31:41.123Z"
   },
   {
    "duration": 9,
    "start_time": "2023-01-18T01:31:41.494Z"
   },
   {
    "duration": 1380,
    "start_time": "2023-01-18T01:32:13.795Z"
   },
   {
    "duration": 36,
    "start_time": "2023-01-18T01:32:15.177Z"
   },
   {
    "duration": 17,
    "start_time": "2023-01-18T01:32:15.214Z"
   },
   {
    "duration": 12,
    "start_time": "2023-01-18T01:32:15.232Z"
   },
   {
    "duration": 40,
    "start_time": "2023-01-18T01:32:15.246Z"
   },
   {
    "duration": 32,
    "start_time": "2023-01-18T01:32:15.288Z"
   },
   {
    "duration": 5,
    "start_time": "2023-01-18T01:32:15.322Z"
   },
   {
    "duration": 9,
    "start_time": "2023-01-18T01:32:15.328Z"
   },
   {
    "duration": 8,
    "start_time": "2023-01-18T01:32:15.338Z"
   },
   {
    "duration": 28,
    "start_time": "2023-01-18T01:32:15.348Z"
   },
   {
    "duration": 4,
    "start_time": "2023-01-18T01:32:15.378Z"
   },
   {
    "duration": 6,
    "start_time": "2023-01-18T01:32:15.384Z"
   },
   {
    "duration": 8,
    "start_time": "2023-01-18T01:32:15.391Z"
   },
   {
    "duration": 21,
    "start_time": "2023-01-18T01:32:15.402Z"
   },
   {
    "duration": 19,
    "start_time": "2023-01-18T01:32:15.425Z"
   },
   {
    "duration": 8,
    "start_time": "2023-01-18T01:32:15.446Z"
   },
   {
    "duration": 15,
    "start_time": "2023-01-18T01:32:15.455Z"
   },
   {
    "duration": 6918,
    "start_time": "2023-01-18T01:32:15.472Z"
   },
   {
    "duration": 7,
    "start_time": "2023-01-18T01:32:22.392Z"
   },
   {
    "duration": 153,
    "start_time": "2023-01-18T01:32:22.400Z"
   },
   {
    "duration": 4,
    "start_time": "2023-01-18T01:32:22.555Z"
   },
   {
    "duration": 13,
    "start_time": "2023-01-18T01:32:22.561Z"
   },
   {
    "duration": 839,
    "start_time": "2023-01-18T01:32:22.577Z"
   },
   {
    "duration": 227,
    "start_time": "2023-01-18T01:32:23.417Z"
   },
   {
    "duration": 8,
    "start_time": "2023-01-18T01:32:23.645Z"
   },
   {
    "duration": 28,
    "start_time": "2023-01-18T01:32:23.654Z"
   },
   {
    "duration": 17,
    "start_time": "2023-01-18T01:32:23.684Z"
   },
   {
    "duration": 132,
    "start_time": "2023-01-18T01:32:23.703Z"
   },
   {
    "duration": 4,
    "start_time": "2023-01-18T01:32:23.836Z"
   },
   {
    "duration": 33,
    "start_time": "2023-01-18T01:32:23.842Z"
   },
   {
    "duration": 36,
    "start_time": "2023-01-18T01:32:23.877Z"
   },
   {
    "duration": 934,
    "start_time": "2023-01-18T01:32:23.914Z"
   },
   {
    "duration": 8,
    "start_time": "2023-01-18T01:32:24.850Z"
   },
   {
    "duration": 4,
    "start_time": "2023-01-18T01:32:24.860Z"
   },
   {
    "duration": 14,
    "start_time": "2023-01-18T01:32:24.865Z"
   },
   {
    "duration": 8,
    "start_time": "2023-01-18T01:32:24.881Z"
   },
   {
    "duration": 377,
    "start_time": "2023-01-18T01:32:24.891Z"
   },
   {
    "duration": 7,
    "start_time": "2023-01-18T01:32:25.270Z"
   },
   {
    "duration": 1320,
    "start_time": "2023-01-18T01:33:14.051Z"
   },
   {
    "duration": 37,
    "start_time": "2023-01-18T01:33:15.373Z"
   },
   {
    "duration": 18,
    "start_time": "2023-01-18T01:33:15.412Z"
   },
   {
    "duration": 13,
    "start_time": "2023-01-18T01:33:15.431Z"
   },
   {
    "duration": 41,
    "start_time": "2023-01-18T01:33:15.446Z"
   },
   {
    "duration": 29,
    "start_time": "2023-01-18T01:33:15.489Z"
   },
   {
    "duration": 6,
    "start_time": "2023-01-18T01:33:15.520Z"
   },
   {
    "duration": 9,
    "start_time": "2023-01-18T01:33:15.527Z"
   },
   {
    "duration": 8,
    "start_time": "2023-01-18T01:33:15.537Z"
   },
   {
    "duration": 17,
    "start_time": "2023-01-18T01:33:15.546Z"
   },
   {
    "duration": 4,
    "start_time": "2023-01-18T01:33:15.565Z"
   },
   {
    "duration": 11,
    "start_time": "2023-01-18T01:33:15.571Z"
   },
   {
    "duration": 8,
    "start_time": "2023-01-18T01:33:15.584Z"
   },
   {
    "duration": 14,
    "start_time": "2023-01-18T01:33:15.615Z"
   },
   {
    "duration": 24,
    "start_time": "2023-01-18T01:33:15.630Z"
   },
   {
    "duration": 7,
    "start_time": "2023-01-18T01:33:15.656Z"
   },
   {
    "duration": 11,
    "start_time": "2023-01-18T01:33:15.665Z"
   },
   {
    "duration": 59778,
    "start_time": "2023-01-18T01:33:15.678Z"
   },
   {
    "duration": 8,
    "start_time": "2023-01-18T01:34:15.457Z"
   },
   {
    "duration": 153,
    "start_time": "2023-01-18T01:34:15.466Z"
   },
   {
    "duration": 3,
    "start_time": "2023-01-18T01:34:15.621Z"
   },
   {
    "duration": 6,
    "start_time": "2023-01-18T01:34:15.626Z"
   },
   {
    "duration": 786,
    "start_time": "2023-01-18T01:34:15.634Z"
   },
   {
    "duration": 65,
    "start_time": "2023-01-18T01:34:16.513Z"
   },
   {
    "duration": 8,
    "start_time": "2023-01-18T01:34:16.580Z"
   },
   {
    "duration": 30,
    "start_time": "2023-01-18T01:34:16.590Z"
   },
   {
    "duration": 13,
    "start_time": "2023-01-18T01:34:16.622Z"
   },
   {
    "duration": 133,
    "start_time": "2023-01-18T01:34:16.637Z"
   },
   {
    "duration": 4,
    "start_time": "2023-01-18T01:34:16.771Z"
   },
   {
    "duration": 14,
    "start_time": "2023-01-18T01:34:16.777Z"
   },
   {
    "duration": 20,
    "start_time": "2023-01-18T01:34:16.793Z"
   },
   {
    "duration": 957,
    "start_time": "2023-01-18T01:34:16.815Z"
   },
   {
    "duration": 8,
    "start_time": "2023-01-18T01:34:17.774Z"
   },
   {
    "duration": 4,
    "start_time": "2023-01-18T01:34:17.783Z"
   },
   {
    "duration": 25,
    "start_time": "2023-01-18T01:34:17.788Z"
   },
   {
    "duration": 5,
    "start_time": "2023-01-18T01:34:17.815Z"
   },
   {
    "duration": 370,
    "start_time": "2023-01-18T01:34:17.822Z"
   },
   {
    "duration": 9,
    "start_time": "2023-01-18T01:34:18.194Z"
   },
   {
    "duration": 1402,
    "start_time": "2023-01-18T01:35:57.615Z"
   },
   {
    "duration": 36,
    "start_time": "2023-01-18T01:35:59.019Z"
   },
   {
    "duration": 15,
    "start_time": "2023-01-18T01:35:59.057Z"
   },
   {
    "duration": 15,
    "start_time": "2023-01-18T01:35:59.074Z"
   },
   {
    "duration": 44,
    "start_time": "2023-01-18T01:35:59.091Z"
   },
   {
    "duration": 10,
    "start_time": "2023-01-18T01:35:59.137Z"
   },
   {
    "duration": 4,
    "start_time": "2023-01-18T01:35:59.149Z"
   },
   {
    "duration": 7,
    "start_time": "2023-01-18T01:35:59.155Z"
   },
   {
    "duration": 10,
    "start_time": "2023-01-18T01:35:59.163Z"
   },
   {
    "duration": 16,
    "start_time": "2023-01-18T01:35:59.175Z"
   },
   {
    "duration": 6,
    "start_time": "2023-01-18T01:35:59.192Z"
   },
   {
    "duration": 6,
    "start_time": "2023-01-18T01:35:59.199Z"
   },
   {
    "duration": 9,
    "start_time": "2023-01-18T01:35:59.206Z"
   },
   {
    "duration": 19,
    "start_time": "2023-01-18T01:35:59.216Z"
   },
   {
    "duration": 23,
    "start_time": "2023-01-18T01:35:59.237Z"
   },
   {
    "duration": 14,
    "start_time": "2023-01-18T01:35:59.262Z"
   },
   {
    "duration": 15,
    "start_time": "2023-01-18T01:35:59.278Z"
   },
   {
    "duration": 11,
    "start_time": "2023-01-18T01:35:59.294Z"
   },
   {
    "duration": 11,
    "start_time": "2023-01-18T01:35:59.306Z"
   },
   {
    "duration": 218,
    "start_time": "2023-01-18T01:35:59.319Z"
   },
   {
    "duration": 3,
    "start_time": "2023-01-18T01:35:59.539Z"
   },
   {
    "duration": 8,
    "start_time": "2023-01-18T01:35:59.543Z"
   },
   {
    "duration": 866,
    "start_time": "2023-01-18T01:35:59.552Z"
   },
   {
    "duration": 336,
    "start_time": "2023-01-18T01:36:00.421Z"
   },
   {
    "duration": 8,
    "start_time": "2023-01-18T01:36:00.759Z"
   },
   {
    "duration": 57,
    "start_time": "2023-01-18T01:36:00.769Z"
   },
   {
    "duration": 89,
    "start_time": "2023-01-18T01:36:00.828Z"
   },
   {
    "duration": 121,
    "start_time": "2023-01-18T01:36:00.920Z"
   },
   {
    "duration": 3,
    "start_time": "2023-01-18T01:36:01.043Z"
   },
   {
    "duration": 25,
    "start_time": "2023-01-18T01:36:01.048Z"
   },
   {
    "duration": 42,
    "start_time": "2023-01-18T01:36:01.074Z"
   },
   {
    "duration": 987,
    "start_time": "2023-01-18T01:36:01.118Z"
   },
   {
    "duration": 10,
    "start_time": "2023-01-18T01:36:02.107Z"
   },
   {
    "duration": 29,
    "start_time": "2023-01-18T01:36:02.119Z"
   },
   {
    "duration": 28,
    "start_time": "2023-01-18T01:36:02.149Z"
   },
   {
    "duration": 16,
    "start_time": "2023-01-18T01:36:02.179Z"
   },
   {
    "duration": 351,
    "start_time": "2023-01-18T01:36:02.197Z"
   },
   {
    "duration": 9,
    "start_time": "2023-01-18T01:36:02.550Z"
   },
   {
    "duration": 1320,
    "start_time": "2023-01-18T01:36:57.949Z"
   },
   {
    "duration": 36,
    "start_time": "2023-01-18T01:36:59.271Z"
   },
   {
    "duration": 18,
    "start_time": "2023-01-18T01:36:59.309Z"
   },
   {
    "duration": 20,
    "start_time": "2023-01-18T01:36:59.329Z"
   },
   {
    "duration": 55,
    "start_time": "2023-01-18T01:36:59.351Z"
   },
   {
    "duration": 12,
    "start_time": "2023-01-18T01:36:59.407Z"
   },
   {
    "duration": 5,
    "start_time": "2023-01-18T01:36:59.420Z"
   },
   {
    "duration": 14,
    "start_time": "2023-01-18T01:36:59.427Z"
   },
   {
    "duration": 8,
    "start_time": "2023-01-18T01:36:59.442Z"
   },
   {
    "duration": 18,
    "start_time": "2023-01-18T01:36:59.452Z"
   },
   {
    "duration": 4,
    "start_time": "2023-01-18T01:36:59.472Z"
   },
   {
    "duration": 10,
    "start_time": "2023-01-18T01:36:59.478Z"
   },
   {
    "duration": 8,
    "start_time": "2023-01-18T01:36:59.490Z"
   },
   {
    "duration": 23,
    "start_time": "2023-01-18T01:36:59.500Z"
   },
   {
    "duration": 19,
    "start_time": "2023-01-18T01:36:59.524Z"
   },
   {
    "duration": 4,
    "start_time": "2023-01-18T01:36:59.545Z"
   },
   {
    "duration": 24,
    "start_time": "2023-01-18T01:36:59.550Z"
   },
   {
    "duration": 7,
    "start_time": "2023-01-18T01:36:59.576Z"
   },
   {
    "duration": 16,
    "start_time": "2023-01-18T01:36:59.585Z"
   },
   {
    "duration": 145,
    "start_time": "2023-01-18T01:36:59.603Z"
   },
   {
    "duration": 3,
    "start_time": "2023-01-18T01:36:59.750Z"
   },
   {
    "duration": 6,
    "start_time": "2023-01-18T01:36:59.755Z"
   },
   {
    "duration": 855,
    "start_time": "2023-01-18T01:36:59.763Z"
   },
   {
    "duration": 425,
    "start_time": "2023-01-18T01:37:00.619Z"
   },
   {
    "duration": 9,
    "start_time": "2023-01-18T01:37:01.045Z"
   },
   {
    "duration": 29,
    "start_time": "2023-01-18T01:37:01.056Z"
   },
   {
    "duration": 48,
    "start_time": "2023-01-18T01:37:01.087Z"
   },
   {
    "duration": 131,
    "start_time": "2023-01-18T01:37:01.138Z"
   },
   {
    "duration": 4,
    "start_time": "2023-01-18T01:37:01.270Z"
   },
   {
    "duration": 56,
    "start_time": "2023-01-18T01:37:01.276Z"
   },
   {
    "duration": 19,
    "start_time": "2023-01-18T01:37:01.334Z"
   },
   {
    "duration": 347,
    "start_time": "2023-01-18T01:37:01.355Z"
   },
   {
    "duration": 12,
    "start_time": "2023-01-18T01:37:01.704Z"
   },
   {
    "duration": 19,
    "start_time": "2023-01-18T01:37:01.718Z"
   },
   {
    "duration": 31,
    "start_time": "2023-01-18T01:37:01.739Z"
   },
   {
    "duration": 60,
    "start_time": "2023-01-18T01:37:01.772Z"
   },
   {
    "duration": 157,
    "start_time": "2023-01-18T01:37:01.833Z"
   },
   {
    "duration": 7,
    "start_time": "2023-01-18T01:37:01.992Z"
   },
   {
    "duration": 1284,
    "start_time": "2023-01-18T01:38:15.449Z"
   },
   {
    "duration": 36,
    "start_time": "2023-01-18T01:38:16.734Z"
   },
   {
    "duration": 16,
    "start_time": "2023-01-18T01:38:16.772Z"
   },
   {
    "duration": 11,
    "start_time": "2023-01-18T01:38:16.790Z"
   },
   {
    "duration": 38,
    "start_time": "2023-01-18T01:38:16.803Z"
   },
   {
    "duration": 10,
    "start_time": "2023-01-18T01:38:16.843Z"
   },
   {
    "duration": 5,
    "start_time": "2023-01-18T01:38:16.854Z"
   },
   {
    "duration": 9,
    "start_time": "2023-01-18T01:38:16.860Z"
   },
   {
    "duration": 5,
    "start_time": "2023-01-18T01:38:16.871Z"
   },
   {
    "duration": 18,
    "start_time": "2023-01-18T01:38:16.878Z"
   },
   {
    "duration": 6,
    "start_time": "2023-01-18T01:38:16.913Z"
   },
   {
    "duration": 11,
    "start_time": "2023-01-18T01:38:16.921Z"
   },
   {
    "duration": 15,
    "start_time": "2023-01-18T01:38:16.933Z"
   },
   {
    "duration": 29,
    "start_time": "2023-01-18T01:38:16.952Z"
   },
   {
    "duration": 20,
    "start_time": "2023-01-18T01:38:16.982Z"
   },
   {
    "duration": 25,
    "start_time": "2023-01-18T01:38:17.003Z"
   },
   {
    "duration": 10,
    "start_time": "2023-01-18T01:38:17.029Z"
   },
   {
    "duration": 2,
    "start_time": "2023-01-18T01:38:17.041Z"
   },
   {
    "duration": 17,
    "start_time": "2023-01-18T01:38:17.044Z"
   },
   {
    "duration": 140,
    "start_time": "2023-01-18T01:38:17.063Z"
   },
   {
    "duration": 8,
    "start_time": "2023-01-18T01:38:17.205Z"
   },
   {
    "duration": 7,
    "start_time": "2023-01-18T01:38:17.214Z"
   },
   {
    "duration": 792,
    "start_time": "2023-01-18T01:38:17.223Z"
   },
   {
    "duration": 333,
    "start_time": "2023-01-18T01:38:18.016Z"
   },
   {
    "duration": 8,
    "start_time": "2023-01-18T01:38:18.350Z"
   },
   {
    "duration": 21,
    "start_time": "2023-01-18T01:38:18.359Z"
   },
   {
    "duration": 35,
    "start_time": "2023-01-18T01:38:18.382Z"
   },
   {
    "duration": 122,
    "start_time": "2023-01-18T01:38:18.419Z"
   },
   {
    "duration": 4,
    "start_time": "2023-01-18T01:38:18.542Z"
   },
   {
    "duration": 14,
    "start_time": "2023-01-18T01:38:18.548Z"
   },
   {
    "duration": 6,
    "start_time": "2023-01-18T01:38:18.564Z"
   },
   {
    "duration": 336,
    "start_time": "2023-01-18T01:38:18.572Z"
   },
   {
    "duration": 9,
    "start_time": "2023-01-18T01:38:18.910Z"
   },
   {
    "duration": 7,
    "start_time": "2023-01-18T01:38:18.920Z"
   },
   {
    "duration": 18,
    "start_time": "2023-01-18T01:38:18.929Z"
   },
   {
    "duration": 8,
    "start_time": "2023-01-18T01:38:18.949Z"
   },
   {
    "duration": 166,
    "start_time": "2023-01-18T01:38:18.959Z"
   },
   {
    "duration": 9,
    "start_time": "2023-01-18T01:38:19.126Z"
   },
   {
    "duration": 29,
    "start_time": "2023-01-18T01:39:13.809Z"
   },
   {
    "duration": 26,
    "start_time": "2023-01-18T01:39:27.127Z"
   },
   {
    "duration": 24,
    "start_time": "2023-01-18T01:40:30.336Z"
   },
   {
    "duration": 1306,
    "start_time": "2023-01-18T01:41:48.823Z"
   },
   {
    "duration": 37,
    "start_time": "2023-01-18T01:41:50.131Z"
   },
   {
    "duration": 20,
    "start_time": "2023-01-18T01:41:50.169Z"
   },
   {
    "duration": 19,
    "start_time": "2023-01-18T01:41:50.191Z"
   },
   {
    "duration": 60,
    "start_time": "2023-01-18T01:41:50.212Z"
   },
   {
    "duration": 14,
    "start_time": "2023-01-18T01:41:50.274Z"
   },
   {
    "duration": 11,
    "start_time": "2023-01-18T01:41:50.290Z"
   },
   {
    "duration": 12,
    "start_time": "2023-01-18T01:41:50.303Z"
   },
   {
    "duration": 8,
    "start_time": "2023-01-18T01:41:50.316Z"
   },
   {
    "duration": 27,
    "start_time": "2023-01-18T01:41:50.327Z"
   },
   {
    "duration": 9,
    "start_time": "2023-01-18T01:41:50.356Z"
   },
   {
    "duration": 21,
    "start_time": "2023-01-18T01:41:50.366Z"
   },
   {
    "duration": 24,
    "start_time": "2023-01-18T01:41:50.389Z"
   },
   {
    "duration": 41,
    "start_time": "2023-01-18T01:41:50.414Z"
   },
   {
    "duration": 35,
    "start_time": "2023-01-18T01:41:50.457Z"
   },
   {
    "duration": 11,
    "start_time": "2023-01-18T01:41:50.494Z"
   },
   {
    "duration": 9,
    "start_time": "2023-01-18T01:41:50.507Z"
   },
   {
    "duration": 13,
    "start_time": "2023-01-18T01:41:50.517Z"
   },
   {
    "duration": 31,
    "start_time": "2023-01-18T01:41:50.532Z"
   },
   {
    "duration": 186,
    "start_time": "2023-01-18T01:41:50.564Z"
   },
   {
    "duration": 4,
    "start_time": "2023-01-18T01:41:50.752Z"
   },
   {
    "duration": 17,
    "start_time": "2023-01-18T01:41:50.758Z"
   },
   {
    "duration": 838,
    "start_time": "2023-01-18T01:41:50.777Z"
   },
   {
    "duration": 333,
    "start_time": "2023-01-18T01:41:51.617Z"
   },
   {
    "duration": 8,
    "start_time": "2023-01-18T01:41:51.952Z"
   },
   {
    "duration": 39,
    "start_time": "2023-01-18T01:41:51.961Z"
   },
   {
    "duration": 24,
    "start_time": "2023-01-18T01:41:52.002Z"
   },
   {
    "duration": 130,
    "start_time": "2023-01-18T01:41:52.029Z"
   },
   {
    "duration": 3,
    "start_time": "2023-01-18T01:41:52.161Z"
   },
   {
    "duration": 86,
    "start_time": "2023-01-18T01:41:52.166Z"
   },
   {
    "duration": 26,
    "start_time": "2023-01-18T01:41:52.253Z"
   },
   {
    "duration": 323,
    "start_time": "2023-01-18T01:41:52.280Z"
   },
   {
    "duration": 11,
    "start_time": "2023-01-18T01:41:52.605Z"
   },
   {
    "duration": 39,
    "start_time": "2023-01-18T01:41:52.618Z"
   },
   {
    "duration": 27,
    "start_time": "2023-01-18T01:41:52.659Z"
   },
   {
    "duration": 20,
    "start_time": "2023-01-18T01:41:52.687Z"
   },
   {
    "duration": 144,
    "start_time": "2023-01-18T01:41:52.709Z"
   },
   {
    "duration": 9,
    "start_time": "2023-01-18T01:41:52.855Z"
   },
   {
    "duration": 27,
    "start_time": "2023-01-18T01:41:52.866Z"
   },
   {
    "duration": 31,
    "start_time": "2023-01-18T01:41:52.895Z"
   },
   {
    "duration": 26,
    "start_time": "2023-01-18T01:41:52.928Z"
   },
   {
    "duration": 140,
    "start_time": "2023-01-18T01:41:52.956Z"
   },
   {
    "duration": 1359,
    "start_time": "2023-01-18T01:53:19.803Z"
   },
   {
    "duration": 37,
    "start_time": "2023-01-18T01:53:21.164Z"
   },
   {
    "duration": 16,
    "start_time": "2023-01-18T01:53:21.204Z"
   },
   {
    "duration": 15,
    "start_time": "2023-01-18T01:53:21.222Z"
   },
   {
    "duration": 39,
    "start_time": "2023-01-18T01:53:21.238Z"
   },
   {
    "duration": 11,
    "start_time": "2023-01-18T01:53:21.279Z"
   },
   {
    "duration": 5,
    "start_time": "2023-01-18T01:53:21.291Z"
   },
   {
    "duration": 4,
    "start_time": "2023-01-18T01:53:21.314Z"
   },
   {
    "duration": 19,
    "start_time": "2023-01-18T01:53:21.320Z"
   },
   {
    "duration": 36,
    "start_time": "2023-01-18T01:53:21.341Z"
   },
   {
    "duration": 10,
    "start_time": "2023-01-18T01:53:21.378Z"
   },
   {
    "duration": 13,
    "start_time": "2023-01-18T01:53:21.390Z"
   },
   {
    "duration": 8,
    "start_time": "2023-01-18T01:53:21.405Z"
   },
   {
    "duration": 22,
    "start_time": "2023-01-18T01:53:21.414Z"
   },
   {
    "duration": 19,
    "start_time": "2023-01-18T01:53:21.438Z"
   },
   {
    "duration": 5,
    "start_time": "2023-01-18T01:53:21.458Z"
   },
   {
    "duration": 9,
    "start_time": "2023-01-18T01:53:21.464Z"
   },
   {
    "duration": 59559,
    "start_time": "2023-01-18T01:53:21.474Z"
   },
   {
    "duration": 7,
    "start_time": "2023-01-18T01:54:21.035Z"
   },
   {
    "duration": 160,
    "start_time": "2023-01-18T01:54:21.044Z"
   },
   {
    "duration": 8,
    "start_time": "2023-01-18T01:54:21.205Z"
   },
   {
    "duration": 22,
    "start_time": "2023-01-18T01:54:21.215Z"
   },
   {
    "duration": 787,
    "start_time": "2023-01-18T01:54:21.239Z"
   },
   {
    "duration": 411,
    "start_time": "2023-01-18T01:54:22.027Z"
   },
   {
    "duration": 8,
    "start_time": "2023-01-18T01:54:22.439Z"
   },
   {
    "duration": 21,
    "start_time": "2023-01-18T01:54:22.448Z"
   },
   {
    "duration": 42,
    "start_time": "2023-01-18T01:54:22.472Z"
   },
   {
    "duration": 125,
    "start_time": "2023-01-18T01:54:22.515Z"
   },
   {
    "duration": 4,
    "start_time": "2023-01-18T01:54:22.642Z"
   },
   {
    "duration": 27,
    "start_time": "2023-01-18T01:54:22.647Z"
   },
   {
    "duration": 6,
    "start_time": "2023-01-18T01:54:22.676Z"
   },
   {
    "duration": 321,
    "start_time": "2023-01-18T01:54:22.683Z"
   },
   {
    "duration": 12,
    "start_time": "2023-01-18T01:54:23.006Z"
   },
   {
    "duration": 4,
    "start_time": "2023-01-18T01:54:23.020Z"
   },
   {
    "duration": 24,
    "start_time": "2023-01-18T01:54:23.025Z"
   },
   {
    "duration": 6,
    "start_time": "2023-01-18T01:54:23.051Z"
   },
   {
    "duration": 143,
    "start_time": "2023-01-18T01:54:23.058Z"
   },
   {
    "duration": 13,
    "start_time": "2023-01-18T01:54:23.203Z"
   },
   {
    "duration": 25,
    "start_time": "2023-01-18T01:54:23.218Z"
   },
   {
    "duration": 19,
    "start_time": "2023-01-18T01:54:23.244Z"
   },
   {
    "duration": 24,
    "start_time": "2023-01-18T01:54:23.264Z"
   },
   {
    "duration": 141,
    "start_time": "2023-01-18T01:54:23.290Z"
   }
  ],
  "kernelspec": {
   "display_name": "Python 3",
   "language": "python",
   "name": "python3"
  },
  "language_info": {
   "codemirror_mode": {
    "name": "ipython",
    "version": 3
   },
   "file_extension": ".py",
   "mimetype": "text/x-python",
   "name": "python",
   "nbconvert_exporter": "python",
   "pygments_lexer": "ipython3",
   "version": "3.8.8"
  },
  "toc": {
   "base_numbering": 1,
   "nav_menu": {},
   "number_sections": true,
   "sideBar": true,
   "skip_h1_title": true,
   "title_cell": "Содержание",
   "title_sidebar": "Contents",
   "toc_cell": true,
   "toc_position": {},
   "toc_section_display": true,
   "toc_window_display": true
  }
 },
 "nbformat": 4,
 "nbformat_minor": 2
}
